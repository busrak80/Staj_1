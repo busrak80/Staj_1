{
 "cells": [
  {
   "cell_type": "code",
   "execution_count": 1,
   "id": "b88814a8",
   "metadata": {},
   "outputs": [],
   "source": [
    "import numpy as np #Kütüphaneyi kullanabilmek için import etmeliyiz."
   ]
  },
  {
   "cell_type": "code",
   "execution_count": 2,
   "id": "2db2c580",
   "metadata": {},
   "outputs": [],
   "source": [
    "benimListem = [20,30,40]"
   ]
  },
  {
   "cell_type": "code",
   "execution_count": 4,
   "id": "4b847af4",
   "metadata": {},
   "outputs": [
    {
     "data": {
      "text/plain": [
       "list"
      ]
     },
     "execution_count": 4,
     "metadata": {},
     "output_type": "execute_result"
    }
   ],
   "source": [
    "type (benimListem) #Veri tipiniöğrenmek için type kullanılır"
   ]
  },
  {
   "cell_type": "code",
   "execution_count": 5,
   "id": "c62c02b2",
   "metadata": {},
   "outputs": [
    {
     "data": {
      "text/plain": [
       "array([20, 30, 40])"
      ]
     },
     "execution_count": 5,
     "metadata": {},
     "output_type": "execute_result"
    }
   ],
   "source": [
    "np.array(benimListem) #python listesini numpy dizisine dönüştürmek için np.array kullanılır."
   ]
  },
  {
   "cell_type": "code",
   "execution_count": 6,
   "id": "fdd22625",
   "metadata": {},
   "outputs": [],
   "source": [
    "matrixListesi = [[10,20,30], [40,50,60], [70,80,90]]"
   ]
  },
  {
   "cell_type": "code",
   "execution_count": 8,
   "id": "9b31ab55",
   "metadata": {},
   "outputs": [
    {
     "data": {
      "text/plain": [
       "[40, 50, 60]"
      ]
     },
     "execution_count": 8,
     "metadata": {},
     "output_type": "execute_result"
    }
   ],
   "source": [
    "matrixListesi [1] #1.satırı listeler"
   ]
  },
  {
   "cell_type": "code",
   "execution_count": 10,
   "id": "6f0a4ab0",
   "metadata": {},
   "outputs": [
    {
     "data": {
      "text/plain": [
       "40"
      ]
     },
     "execution_count": 10,
     "metadata": {},
     "output_type": "execute_result"
    }
   ],
   "source": [
    "matrixListesi[1][0]#1.satırın 0.elemanını listeler"
   ]
  },
  {
   "cell_type": "code",
   "execution_count": null,
   "id": "69ca6ef7",
   "metadata": {},
   "outputs": [],
   "source": [
    "np.array(matrixListesi)#matrixListesi'ni diziye dönüştürür."
   ]
  },
  {
   "cell_type": "markdown",
   "id": "d995c3d9",
   "metadata": {},
   "source": [
    "# arange"
   ]
  },
  {
   "cell_type": "code",
   "execution_count": 13,
   "id": "7f1ebf25",
   "metadata": {},
   "outputs": [
    {
     "data": {
      "text/plain": [
       "range(0, 10)"
      ]
     },
     "execution_count": 13,
     "metadata": {},
     "output_type": "execute_result"
    }
   ],
   "source": [
    "range (0,10) #başlangıç ve bitiş değeri belli adım sayısı verilmezse varsayılan olarak 1 alınır"
   ]
  },
  {
   "cell_type": "code",
   "execution_count": 14,
   "id": "f9ba9066",
   "metadata": {},
   "outputs": [
    {
     "data": {
      "text/plain": [
       "[0, 1, 2, 3, 4, 5, 6, 7, 8, 9]"
      ]
     },
     "execution_count": 14,
     "metadata": {},
     "output_type": "execute_result"
    }
   ],
   "source": [
    "list(range (0,10)) #range() fonksiyonunu kullanarak bir sayı aralığındaki değerleri içeren bir liste oluşturur"
   ]
  },
  {
   "cell_type": "code",
   "execution_count": 15,
   "id": "78cefb71",
   "metadata": {},
   "outputs": [
    {
     "data": {
      "text/plain": [
       "array([0, 1, 2, 3, 4, 5, 6, 7, 8, 9])"
      ]
     },
     "execution_count": 15,
     "metadata": {},
     "output_type": "execute_result"
    }
   ],
   "source": [
    "np.arange(0,10) #0'dan 10'a kadar numpy dizisi"
   ]
  },
  {
   "cell_type": "code",
   "execution_count": 16,
   "id": "33c2c0d5",
   "metadata": {},
   "outputs": [
    {
     "data": {
      "text/plain": [
       "array([0, 2, 4, 6, 8])"
      ]
     },
     "execution_count": 16,
     "metadata": {},
     "output_type": "execute_result"
    }
   ],
   "source": [
    "np.arange(0,10,2) #0'dan 10'a kadar 2 şer atlayarak dizi oluşturur. (step size)"
   ]
  },
  {
   "cell_type": "code",
   "execution_count": 21,
   "id": "3034adef",
   "metadata": {},
   "outputs": [
    {
     "data": {
      "text/plain": [
       "array([ 0,  3,  6,  9, 12, 15, 18])"
      ]
     },
     "execution_count": 21,
     "metadata": {},
     "output_type": "execute_result"
    }
   ],
   "source": [
    "np.arange(0,20,3)"
   ]
  },
  {
   "cell_type": "markdown",
   "id": "a208dcbe",
   "metadata": {},
   "source": [
    "# Zeros and ones"
   ]
  },
  {
   "cell_type": "code",
   "execution_count": 22,
   "id": "bb5c42ad",
   "metadata": {},
   "outputs": [
    {
     "data": {
      "text/plain": [
       "array([0., 0., 0., 0., 0., 0.])"
      ]
     },
     "execution_count": 22,
     "metadata": {},
     "output_type": "execute_result"
    }
   ],
   "source": [
    "np.zeros(6) #içerisinde 6 tane 0 olan bir dizi oluşturuyor."
   ]
  },
  {
   "cell_type": "code",
   "execution_count": 23,
   "id": "9a339b31",
   "metadata": {},
   "outputs": [
    {
     "data": {
      "text/plain": [
       "array([[0., 0.],\n",
       "       [0., 0.]])"
      ]
     },
     "execution_count": 23,
     "metadata": {},
     "output_type": "execute_result"
    }
   ],
   "source": [
    "np.zeros((2,2))"
   ]
  },
  {
   "cell_type": "code",
   "execution_count": 24,
   "id": "a30d2c3b",
   "metadata": {},
   "outputs": [
    {
     "data": {
      "text/plain": [
       "array([1., 1., 1., 1., 1.])"
      ]
     },
     "execution_count": 24,
     "metadata": {},
     "output_type": "execute_result"
    }
   ],
   "source": [
    "np.ones(5)"
   ]
  },
  {
   "cell_type": "code",
   "execution_count": 25,
   "id": "bef8ccc4",
   "metadata": {},
   "outputs": [
    {
     "data": {
      "text/plain": [
       "array([[1., 1., 1.],\n",
       "       [1., 1., 1.],\n",
       "       [1., 1., 1.]])"
      ]
     },
     "execution_count": 25,
     "metadata": {},
     "output_type": "execute_result"
    }
   ],
   "source": [
    "np.ones((3,3))"
   ]
  },
  {
   "cell_type": "markdown",
   "id": "53cb4d2f",
   "metadata": {},
   "source": [
    "# linspace"
   ]
  },
  {
   "cell_type": "code",
   "execution_count": 26,
   "id": "d6cd2b8c",
   "metadata": {},
   "outputs": [
    {
     "data": {
      "text/plain": [
       "array([ 0. ,  2.5,  5. ,  7.5, 10. ])"
      ]
     },
     "execution_count": 26,
     "metadata": {},
     "output_type": "execute_result"
    }
   ],
   "source": [
    "np.linspace(0,10,5) #0 ile 10 arasında eşit aralıklı 5 sayı"
   ]
  },
  {
   "cell_type": "markdown",
   "id": "85757521",
   "metadata": {},
   "source": [
    "## eye"
   ]
  },
  {
   "cell_type": "code",
   "execution_count": 27,
   "id": "a89f2df9",
   "metadata": {},
   "outputs": [
    {
     "data": {
      "text/plain": [
       "array([[1., 0., 0., 0., 0., 0., 0., 0., 0., 0.],\n",
       "       [0., 1., 0., 0., 0., 0., 0., 0., 0., 0.],\n",
       "       [0., 0., 1., 0., 0., 0., 0., 0., 0., 0.],\n",
       "       [0., 0., 0., 1., 0., 0., 0., 0., 0., 0.],\n",
       "       [0., 0., 0., 0., 1., 0., 0., 0., 0., 0.],\n",
       "       [0., 0., 0., 0., 0., 1., 0., 0., 0., 0.],\n",
       "       [0., 0., 0., 0., 0., 0., 1., 0., 0., 0.],\n",
       "       [0., 0., 0., 0., 0., 0., 0., 1., 0., 0.],\n",
       "       [0., 0., 0., 0., 0., 0., 0., 0., 1., 0.],\n",
       "       [0., 0., 0., 0., 0., 0., 0., 0., 0., 1.]])"
      ]
     },
     "execution_count": 27,
     "metadata": {},
     "output_type": "execute_result"
    }
   ],
   "source": [
    "np.eye(10) #Birim matris, köşegeni 1 olan ve geri kalan tüm elemanları sıfır olan kare matristir."
   ]
  },
  {
   "cell_type": "markdown",
   "id": "3b1071fe",
   "metadata": {},
   "source": [
    "## random"
   ]
  },
  {
   "cell_type": "code",
   "execution_count": 28,
   "id": "78f44d04",
   "metadata": {},
   "outputs": [
    {
     "data": {
      "text/plain": [
       "array([ 1.68932653,  0.08204425, -1.92427993,  1.53398051, -0.34725463,\n",
       "        1.52793056,  1.19308286, -1.636902  ])"
      ]
     },
     "execution_count": 28,
     "metadata": {},
     "output_type": "execute_result"
    }
   ],
   "source": [
    "np.random.randn(8)"
   ]
  },
  {
   "cell_type": "code",
   "execution_count": 29,
   "id": "969500f0",
   "metadata": {},
   "outputs": [
    {
     "data": {
      "text/plain": [
       "array([[ 0.67231222,  0.39317972],\n",
       "       [-0.24262489,  0.50511931]])"
      ]
     },
     "execution_count": 29,
     "metadata": {},
     "output_type": "execute_result"
    }
   ],
   "source": [
    "np.random.randn(2,2)"
   ]
  },
  {
   "cell_type": "code",
   "execution_count": 30,
   "id": "d6298027",
   "metadata": {},
   "outputs": [
    {
     "data": {
      "text/plain": [
       "3"
      ]
     },
     "execution_count": 30,
     "metadata": {},
     "output_type": "execute_result"
    }
   ],
   "source": [
    "np.random.randint(1,10)"
   ]
  },
  {
   "cell_type": "code",
   "execution_count": 31,
   "id": "c0de30da",
   "metadata": {},
   "outputs": [
    {
     "data": {
      "text/plain": [
       "1"
      ]
     },
     "execution_count": 31,
     "metadata": {},
     "output_type": "execute_result"
    }
   ],
   "source": [
    "np.random.randint(5)"
   ]
  },
  {
   "cell_type": "code",
   "execution_count": 32,
   "id": "8c2ebd9e",
   "metadata": {},
   "outputs": [
    {
     "data": {
      "text/plain": [
       "array([4, 2, 4, 3, 7])"
      ]
     },
     "execution_count": 32,
     "metadata": {},
     "output_type": "execute_result"
    }
   ],
   "source": [
    "np.random.randint(1,10,5) #1'den 10'a kadar 5 tane random integer değer döndürür"
   ]
  },
  {
   "cell_type": "code",
   "execution_count": 33,
   "id": "bc0c210d",
   "metadata": {},
   "outputs": [],
   "source": [
    "numpyDizim = np.arange(20)"
   ]
  },
  {
   "cell_type": "code",
   "execution_count": 37,
   "id": "43a82e06",
   "metadata": {},
   "outputs": [
    {
     "data": {
      "text/plain": [
       "array([ 0,  1,  2,  3,  4,  5,  6,  7,  8,  9, 10, 11, 12, 13, 14, 15, 16,\n",
       "       17, 18, 19])"
      ]
     },
     "execution_count": 37,
     "metadata": {},
     "output_type": "execute_result"
    }
   ],
   "source": [
    "numpyDizim"
   ]
  },
  {
   "cell_type": "markdown",
   "id": "98a52416",
   "metadata": {},
   "source": [
    "## numpy dizi methodları"
   ]
  },
  {
   "cell_type": "code",
   "execution_count": 35,
   "id": "1d1b146e",
   "metadata": {},
   "outputs": [
    {
     "data": {
      "text/plain": [
       "array([[ 0,  1,  2,  3],\n",
       "       [ 4,  5,  6,  7],\n",
       "       [ 8,  9, 10, 11],\n",
       "       [12, 13, 14, 15],\n",
       "       [16, 17, 18, 19]])"
      ]
     },
     "execution_count": 35,
     "metadata": {},
     "output_type": "execute_result"
    }
   ],
   "source": [
    "numpyDizim.reshape(5,4) #reshape ile diziyi istediğim şekilde ayırabilirim."
   ]
  },
  {
   "cell_type": "code",
   "execution_count": 36,
   "id": "d9fccf2e",
   "metadata": {},
   "outputs": [
    {
     "data": {
      "text/plain": [
       "array([[ 0,  1,  2,  3,  4],\n",
       "       [ 5,  6,  7,  8,  9],\n",
       "       [10, 11, 12, 13, 14],\n",
       "       [15, 16, 17, 18, 19]])"
      ]
     },
     "execution_count": 36,
     "metadata": {},
     "output_type": "execute_result"
    }
   ],
   "source": [
    "numpyDizim.reshape(4,5)"
   ]
  },
  {
   "cell_type": "code",
   "execution_count": 38,
   "id": "fdff4081",
   "metadata": {},
   "outputs": [
    {
     "data": {
      "text/plain": [
       "19"
      ]
     },
     "execution_count": 38,
     "metadata": {},
     "output_type": "execute_result"
    }
   ],
   "source": [
    "numpyDizim.max()"
   ]
  },
  {
   "cell_type": "code",
   "execution_count": 39,
   "id": "e1b733e8",
   "metadata": {},
   "outputs": [
    {
     "data": {
      "text/plain": [
       "0"
      ]
     },
     "execution_count": 39,
     "metadata": {},
     "output_type": "execute_result"
    }
   ],
   "source": [
    "numpyDizim.min()"
   ]
  },
  {
   "cell_type": "code",
   "execution_count": 40,
   "id": "dced00eb",
   "metadata": {},
   "outputs": [
    {
     "data": {
      "text/plain": [
       "19"
      ]
     },
     "execution_count": 40,
     "metadata": {},
     "output_type": "execute_result"
    }
   ],
   "source": [
    "numpyDizim.argmax()"
   ]
  },
  {
   "cell_type": "code",
   "execution_count": 41,
   "id": "1ebb00d5",
   "metadata": {},
   "outputs": [],
   "source": [
    "reshapeDizim = numpyDizim.reshape(4,5)"
   ]
  },
  {
   "cell_type": "code",
   "execution_count": 43,
   "id": "3a607787",
   "metadata": {},
   "outputs": [
    {
     "data": {
      "text/plain": [
       "(4, 5)"
      ]
     },
     "execution_count": 43,
     "metadata": {},
     "output_type": "execute_result"
    }
   ],
   "source": [
    "reshapeDizim.shape #Güncel dizimin hangi şekle sahip olduğunu öğrenebilirim."
   ]
  },
  {
   "cell_type": "markdown",
   "id": "d0af4a4a",
   "metadata": {},
   "source": [
    "## Numpy indeksler"
   ]
  },
  {
   "cell_type": "code",
   "execution_count": 44,
   "id": "82915a17",
   "metadata": {},
   "outputs": [],
   "source": [
    "benimDizim = np.arange(0,15)"
   ]
  },
  {
   "cell_type": "code",
   "execution_count": 45,
   "id": "b3358db9",
   "metadata": {},
   "outputs": [
    {
     "data": {
      "text/plain": [
       "array([ 0,  1,  2,  3,  4,  5,  6,  7,  8,  9, 10, 11, 12, 13, 14])"
      ]
     },
     "execution_count": 45,
     "metadata": {},
     "output_type": "execute_result"
    }
   ],
   "source": [
    "benimDizim"
   ]
  },
  {
   "cell_type": "code",
   "execution_count": 46,
   "id": "6ead9c54",
   "metadata": {},
   "outputs": [
    {
     "data": {
      "text/plain": [
       "5"
      ]
     },
     "execution_count": 46,
     "metadata": {},
     "output_type": "execute_result"
    }
   ],
   "source": [
    "benimDizim[5]"
   ]
  },
  {
   "cell_type": "code",
   "execution_count": 48,
   "id": "a8880bc4",
   "metadata": {},
   "outputs": [
    {
     "data": {
      "text/plain": [
       "array([3, 4, 5, 6, 7])"
      ]
     },
     "execution_count": 48,
     "metadata": {},
     "output_type": "execute_result"
    }
   ],
   "source": [
    "benimDizim[3:8] #Dizin 3'ten 8'e kadar elemanlarını listeler."
   ]
  },
  {
   "cell_type": "code",
   "execution_count": 51,
   "id": "cfbcf9b5",
   "metadata": {},
   "outputs": [],
   "source": [
    "benimDizim[3:8] = -7 #3'ten 8'e kadar indekslerin değerine -7 atar."
   ]
  },
  {
   "cell_type": "code",
   "execution_count": 52,
   "id": "ab484737",
   "metadata": {},
   "outputs": [
    {
     "data": {
      "text/plain": [
       "array([ 0,  1,  2, -7, -7, -7, -7, -7,  8,  9, 10, 11, 12, 13, 14])"
      ]
     },
     "execution_count": 52,
     "metadata": {},
     "output_type": "execute_result"
    }
   ],
   "source": [
    "benimDizim"
   ]
  },
  {
   "cell_type": "code",
   "execution_count": 53,
   "id": "33de1f6e",
   "metadata": {},
   "outputs": [],
   "source": [
    "ikinciDizi= np.arange(0,24) #ikinciDizi isminde 0'dan 24'e bir dizi oluştur."
   ]
  },
  {
   "cell_type": "code",
   "execution_count": 54,
   "id": "b009b147",
   "metadata": {},
   "outputs": [
    {
     "data": {
      "text/plain": [
       "array([ 0,  1,  2,  3,  4,  5,  6,  7,  8,  9, 10, 11, 12, 13, 14, 15, 16,\n",
       "       17, 18, 19, 20, 21, 22, 23])"
      ]
     },
     "execution_count": 54,
     "metadata": {},
     "output_type": "execute_result"
    }
   ],
   "source": [
    "ikinciDizi"
   ]
  },
  {
   "cell_type": "code",
   "execution_count": 71,
   "id": "160a44d9",
   "metadata": {},
   "outputs": [],
   "source": [
    "slicingDizisi = ikinciDizi[4:9] #ikinciDizi dizisinin 4ten 9a kadar olan indekseleri slicingDizisi adında yeni bir dizi oluşturur."
   ]
  },
  {
   "cell_type": "code",
   "execution_count": 72,
   "id": "d163817f",
   "metadata": {},
   "outputs": [
    {
     "data": {
      "text/plain": [
       "array([4, 5, 6, 7, 8])"
      ]
     },
     "execution_count": 72,
     "metadata": {},
     "output_type": "execute_result"
    }
   ],
   "source": [
    "slicingDizisi"
   ]
  },
  {
   "cell_type": "code",
   "execution_count": 73,
   "id": "1cf9e00b",
   "metadata": {},
   "outputs": [
    {
     "data": {
      "text/plain": [
       "array([ 0,  1,  2,  3,  4,  5,  6,  7,  8,  9, 10, 11, 12, 13, 14, 15, 16,\n",
       "       17, 18, 19, 20, 21, 22, 23])"
      ]
     },
     "execution_count": 73,
     "metadata": {},
     "output_type": "execute_result"
    }
   ],
   "source": [
    "ikinciDizi"
   ]
  },
  {
   "cell_type": "code",
   "execution_count": 78,
   "id": "9e4fe55a",
   "metadata": {},
   "outputs": [],
   "source": [
    "slicingDizisi[:] = 700 #slicingDizisinin elemanlarını 700'e esitler"
   ]
  },
  {
   "cell_type": "code",
   "execution_count": 79,
   "id": "73683c31",
   "metadata": {},
   "outputs": [
    {
     "data": {
      "text/plain": [
       "array([700, 700, 700, 700, 700])"
      ]
     },
     "execution_count": 79,
     "metadata": {},
     "output_type": "execute_result"
    }
   ],
   "source": [
    "slicingDizisi #Yeni slicingDizisi"
   ]
  },
  {
   "cell_type": "code",
   "execution_count": 80,
   "id": "1da6dc21",
   "metadata": {},
   "outputs": [
    {
     "data": {
      "text/plain": [
       "array([  0,   1,   2,   3, 700, 700, 700, 700, 700,   9,  10,  11,  12,\n",
       "        13,  14,  15,  16,  17,  18,  19,  20,  21,  22,  23])"
      ]
     },
     "execution_count": 80,
     "metadata": {},
     "output_type": "execute_result"
    }
   ],
   "source": [
    "ikinciDizi #Yeni ikinciDizi"
   ]
  },
  {
   "cell_type": "code",
   "execution_count": 81,
   "id": "0bd2ff69",
   "metadata": {},
   "outputs": [],
   "source": [
    "ucuncuDizi = np.arange(0,24) #ucuncuDizi adında 0'dan 24'e bir dizi oluşturdum"
   ]
  },
  {
   "cell_type": "code",
   "execution_count": 83,
   "id": "3e74e236",
   "metadata": {},
   "outputs": [
    {
     "data": {
      "text/plain": [
       "array([ 0,  1,  2,  3,  4,  5,  6,  7,  8,  9, 10, 11, 12, 13, 14, 15, 16,\n",
       "       17, 18, 19, 20, 21, 22, 23])"
      ]
     },
     "execution_count": 83,
     "metadata": {},
     "output_type": "execute_result"
    }
   ],
   "source": [
    "ucuncuDizi"
   ]
  },
  {
   "cell_type": "code",
   "execution_count": 85,
   "id": "a2eb6527",
   "metadata": {},
   "outputs": [],
   "source": [
    "ucuncuDiziKopya = ucuncuDizi.copy() #ucuncuDizi dizisini kopyasını oluşturdum"
   ]
  },
  {
   "cell_type": "code",
   "execution_count": 86,
   "id": "b15fabef",
   "metadata": {},
   "outputs": [
    {
     "data": {
      "text/plain": [
       "array([ 0,  1,  2,  3,  4,  5,  6,  7,  8,  9, 10, 11, 12, 13, 14, 15, 16,\n",
       "       17, 18, 19, 20, 21, 22, 23])"
      ]
     },
     "execution_count": 86,
     "metadata": {},
     "output_type": "execute_result"
    }
   ],
   "source": [
    "ucuncuDiziKopya"
   ]
  },
  {
   "cell_type": "code",
   "execution_count": 87,
   "id": "60954c03",
   "metadata": {},
   "outputs": [],
   "source": [
    "ucuncuDiziKopyaSlicing = ucuncuDiziKopya[3:6] #slicin işlemi yapıldı"
   ]
  },
  {
   "cell_type": "code",
   "execution_count": 89,
   "id": "e7bc9138",
   "metadata": {},
   "outputs": [],
   "source": [
    "ucuncuDiziKopyaSlicing[:] = 800"
   ]
  },
  {
   "cell_type": "code",
   "execution_count": 90,
   "id": "e08ef7f9",
   "metadata": {},
   "outputs": [
    {
     "data": {
      "text/plain": [
       "array([800, 800, 800])"
      ]
     },
     "execution_count": 90,
     "metadata": {},
     "output_type": "execute_result"
    }
   ],
   "source": [
    "ucuncuDiziKopyaSlicing"
   ]
  },
  {
   "cell_type": "code",
   "execution_count": 91,
   "id": "3792490e",
   "metadata": {},
   "outputs": [
    {
     "data": {
      "text/plain": [
       "array([  0,   1,   2, 800, 800, 800,   6,   7,   8,   9,  10,  11,  12,\n",
       "        13,  14,  15,  16,  17,  18,  19,  20,  21,  22,  23])"
      ]
     },
     "execution_count": 91,
     "metadata": {},
     "output_type": "execute_result"
    }
   ],
   "source": [
    "ucuncuDiziKopya"
   ]
  },
  {
   "cell_type": "code",
   "execution_count": 92,
   "id": "5203cc3b",
   "metadata": {},
   "outputs": [
    {
     "data": {
      "text/plain": [
       "array([ 0,  1,  2,  3,  4,  5,  6,  7,  8,  9, 10, 11, 12, 13, 14, 15, 16,\n",
       "       17, 18, 19, 20, 21, 22, 23])"
      ]
     },
     "execution_count": 92,
     "metadata": {},
     "output_type": "execute_result"
    }
   ],
   "source": [
    "ucuncuDizi"
   ]
  },
  {
   "cell_type": "markdown",
   "id": "80f8e8a7",
   "metadata": {},
   "source": [
    "# matrix indeksler"
   ]
  },
  {
   "cell_type": "code",
   "execution_count": 93,
   "id": "e1d00427",
   "metadata": {},
   "outputs": [],
   "source": [
    "benimListem = [[10,20,30],[20,30,40],[40,50,60]] #bir liste oluşturur"
   ]
  },
  {
   "cell_type": "code",
   "execution_count": 94,
   "id": "dd7da3df",
   "metadata": {},
   "outputs": [],
   "source": [
    "matrixDizim = np.array (benimListem) #bu listeyi matris dizinine dönüştürür"
   ]
  },
  {
   "cell_type": "code",
   "execution_count": 95,
   "id": "b920a4d9",
   "metadata": {},
   "outputs": [
    {
     "data": {
      "text/plain": [
       "array([[10, 20, 30],\n",
       "       [20, 30, 40],\n",
       "       [40, 50, 60]])"
      ]
     },
     "execution_count": 95,
     "metadata": {},
     "output_type": "execute_result"
    }
   ],
   "source": [
    "matrixDizim"
   ]
  },
  {
   "cell_type": "code",
   "execution_count": 99,
   "id": "bc226442",
   "metadata": {},
   "outputs": [
    {
     "data": {
      "text/plain": [
       "array([10, 20, 30])"
      ]
     },
     "execution_count": 99,
     "metadata": {},
     "output_type": "execute_result"
    }
   ],
   "source": [
    "matrixDizim[0] #matris dizinin 0. satırı"
   ]
  },
  {
   "cell_type": "code",
   "execution_count": 101,
   "id": "6143ed93",
   "metadata": {},
   "outputs": [
    {
     "data": {
      "text/plain": [
       "50"
      ]
     },
     "execution_count": 101,
     "metadata": {},
     "output_type": "execute_result"
    }
   ],
   "source": [
    "matrixDizim[2][1]"
   ]
  },
  {
   "cell_type": "markdown",
   "id": "75cc95b1",
   "metadata": {},
   "source": [
    "## operasyonlar"
   ]
  },
  {
   "cell_type": "code",
   "execution_count": 107,
   "id": "e76b76f1",
   "metadata": {},
   "outputs": [],
   "source": [
    "yeniDizi = np.random.randint(1,100,20) #yeniDizi adında 1den 100e kadar 20 adet random sayılardan oluşan "
   ]
  },
  {
   "cell_type": "code",
   "execution_count": 108,
   "id": "8519984c",
   "metadata": {},
   "outputs": [
    {
     "data": {
      "text/plain": [
       "array([19, 55, 37, 56, 99, 50, 32, 38, 75, 27, 25, 67, 64, 87, 43, 76, 66,\n",
       "       34, 19, 59])"
      ]
     },
     "execution_count": 108,
     "metadata": {},
     "output_type": "execute_result"
    }
   ],
   "source": [
    "yeniDizi"
   ]
  },
  {
   "cell_type": "code",
   "execution_count": 109,
   "id": "c4284783",
   "metadata": {},
   "outputs": [
    {
     "data": {
      "text/plain": [
       "array([False,  True,  True,  True,  True,  True,  True,  True,  True,\n",
       "        True,  True,  True,  True,  True,  True,  True,  True,  True,\n",
       "       False,  True])"
      ]
     },
     "execution_count": 109,
     "metadata": {},
     "output_type": "execute_result"
    }
   ],
   "source": [
    "yeniDizi >24 #olusturulan yeniDizideki sayılar 24'ten büyük ise true değilse false değerini dönderecektir"
   ]
  },
  {
   "cell_type": "code",
   "execution_count": 111,
   "id": "14cc6be2",
   "metadata": {},
   "outputs": [],
   "source": [
    "sonucDizisi = yeniDizi > 24"
   ]
  },
  {
   "cell_type": "code",
   "execution_count": 112,
   "id": "17e9b8c2",
   "metadata": {},
   "outputs": [
    {
     "data": {
      "text/plain": [
       "array([False,  True,  True,  True,  True,  True,  True,  True,  True,\n",
       "        True,  True,  True,  True,  True,  True,  True,  True,  True,\n",
       "       False,  True])"
      ]
     },
     "execution_count": 112,
     "metadata": {},
     "output_type": "execute_result"
    }
   ],
   "source": [
    "sonucDizisi"
   ]
  },
  {
   "cell_type": "code",
   "execution_count": 115,
   "id": "9aa30738",
   "metadata": {},
   "outputs": [
    {
     "data": {
      "text/plain": [
       "array([19, 55, 37, 56, 99, 50, 32, 38, 75, 27, 25, 67, 64, 87, 43, 76, 66,\n",
       "       34, 19, 59])"
      ]
     },
     "execution_count": 115,
     "metadata": {},
     "output_type": "execute_result"
    }
   ],
   "source": [
    "yeniDizi"
   ]
  },
  {
   "cell_type": "code",
   "execution_count": 124,
   "id": "9ee2fd97",
   "metadata": {},
   "outputs": [
    {
     "data": {
      "text/plain": [
       "array([55, 37, 56, 99, 50, 32, 38, 75, 27, 25, 67, 64, 87, 43, 76, 66, 34,\n",
       "       59])"
      ]
     },
     "execution_count": 124,
     "metadata": {},
     "output_type": "execute_result"
    }
   ],
   "source": [
    "yeniDizi[sonucDizisi] #sadece trueları listeliyor"
   ]
  },
  {
   "cell_type": "code",
   "execution_count": 125,
   "id": "22b36d52",
   "metadata": {},
   "outputs": [],
   "source": [
    "sonDizi = np.arange(0,24)"
   ]
  },
  {
   "cell_type": "code",
   "execution_count": 126,
   "id": "9a7837f2",
   "metadata": {},
   "outputs": [
    {
     "data": {
      "text/plain": [
       "array([ 0,  1,  2,  3,  4,  5,  6,  7,  8,  9, 10, 11, 12, 13, 14, 15, 16,\n",
       "       17, 18, 19, 20, 21, 22, 23])"
      ]
     },
     "execution_count": 126,
     "metadata": {},
     "output_type": "execute_result"
    }
   ],
   "source": [
    "sonDizi"
   ]
  },
  {
   "cell_type": "code",
   "execution_count": 127,
   "id": "d36a60cf",
   "metadata": {},
   "outputs": [
    {
     "data": {
      "text/plain": [
       "array([ 0,  2,  4,  6,  8, 10, 12, 14, 16, 18, 20, 22, 24, 26, 28, 30, 32,\n",
       "       34, 36, 38, 40, 42, 44, 46])"
      ]
     },
     "execution_count": 127,
     "metadata": {},
     "output_type": "execute_result"
    }
   ],
   "source": [
    "sonDizi + sonDizi"
   ]
  },
  {
   "cell_type": "code",
   "execution_count": 128,
   "id": "56162c86",
   "metadata": {},
   "outputs": [
    {
     "data": {
      "text/plain": [
       "array([ 0,  1,  2,  3,  4,  5,  6,  7,  8,  9, 10, 11, 12, 13, 14, 15, 16,\n",
       "       17, 18, 19, 20, 21, 22, 23])"
      ]
     },
     "execution_count": 128,
     "metadata": {},
     "output_type": "execute_result"
    }
   ],
   "source": [
    "sonDizi"
   ]
  },
  {
   "cell_type": "code",
   "execution_count": null,
   "id": "7e9f3165",
   "metadata": {},
   "outputs": [],
   "source": []
  }
 ],
 "metadata": {
  "kernelspec": {
   "display_name": "Python 3 (ipykernel)",
   "language": "python",
   "name": "python3"
  },
  "language_info": {
   "codemirror_mode": {
    "name": "ipython",
    "version": 3
   },
   "file_extension": ".py",
   "mimetype": "text/x-python",
   "name": "python",
   "nbconvert_exporter": "python",
   "pygments_lexer": "ipython3",
   "version": "3.10.9"
  }
 },
 "nbformat": 4,
 "nbformat_minor": 5
}
