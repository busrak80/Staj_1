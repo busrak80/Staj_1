{
 "cells": [
  {
   "cell_type": "code",
   "execution_count": 2,
   "id": "587095cf",
   "metadata": {},
   "outputs": [],
   "source": [
    "import numpy as np\n",
    "import pandas as pd"
   ]
  },
  {
   "cell_type": "markdown",
   "id": "9c923900",
   "metadata": {},
   "source": [
    "## Series"
   ]
  },
  {
   "cell_type": "code",
   "execution_count": 3,
   "id": "63b06372",
   "metadata": {},
   "outputs": [],
   "source": [
    "benimSozlugum = {\"Mustafa\":26, \"Büşra\":23, \"Burak\":22}"
   ]
  },
  {
   "cell_type": "code",
   "execution_count": 4,
   "id": "d2d9e34f",
   "metadata": {},
   "outputs": [
    {
     "data": {
      "text/plain": [
       "Mustafa    26\n",
       "Büşra      23\n",
       "Burak      22\n",
       "dtype: int64"
      ]
     },
     "execution_count": 4,
     "metadata": {},
     "output_type": "execute_result"
    }
   ],
   "source": [
    "pd.Series(benimSozlugum) #\"benimSozlugum\" adlı Python listesini Pandas Series'e dönüştürdük\n",
    "#\"dtype: int64\" ifadesi, Series'in içindeki değerlerin tamsayı (integer) veri türünde olduğunu gösterir."
   ]
  },
  {
   "cell_type": "code",
   "execution_count": 5,
   "id": "60f3234f",
   "metadata": {},
   "outputs": [],
   "source": [
    "bYaslar =[26,23,22]\n",
    "bİsimler = [\"Mustafa\", \"Büşra\", \"Burak\"]"
   ]
  },
  {
   "cell_type": "code",
   "execution_count": 6,
   "id": "b7338b9e",
   "metadata": {},
   "outputs": [
    {
     "data": {
      "text/plain": [
       "0    26\n",
       "1    23\n",
       "2    22\n",
       "dtype: int64"
      ]
     },
     "execution_count": 6,
     "metadata": {},
     "output_type": "execute_result"
    }
   ],
   "source": [
    "pd.Series(bYaslar) #Bu şekilde yapılırsa kendi sırasına göre indeks atar"
   ]
  },
  {
   "cell_type": "code",
   "execution_count": 7,
   "id": "53f9d4b3",
   "metadata": {},
   "outputs": [
    {
     "data": {
      "text/plain": [
       "0    Mustafa\n",
       "1      Büşra\n",
       "2      Burak\n",
       "dtype: object"
      ]
     },
     "execution_count": 7,
     "metadata": {},
     "output_type": "execute_result"
    }
   ],
   "source": [
    "pd.Series(bİsimler)"
   ]
  },
  {
   "cell_type": "code",
   "execution_count": 8,
   "id": "827d0e9e",
   "metadata": {},
   "outputs": [
    {
     "data": {
      "text/plain": [
       "Mustafa    26\n",
       "Büşra      23\n",
       "Burak      22\n",
       "dtype: int64"
      ]
     },
     "execution_count": 8,
     "metadata": {},
     "output_type": "execute_result"
    }
   ],
   "source": [
    "pd.Series(bYaslar, bİsimler)"
   ]
  },
  {
   "cell_type": "code",
   "execution_count": 9,
   "id": "b76486c3",
   "metadata": {},
   "outputs": [
    {
     "data": {
      "text/plain": [
       "Mustafa    26\n",
       "Büşra      23\n",
       "Burak      22\n",
       "dtype: int64"
      ]
     },
     "execution_count": 9,
     "metadata": {},
     "output_type": "execute_result"
    }
   ],
   "source": [
    "pd.Series(data = bYaslar, index = bİsimler) #Kendimiz data ve indeksi belirleyebiliriz"
   ]
  },
  {
   "cell_type": "code",
   "execution_count": 10,
   "id": "6d7b3078",
   "metadata": {},
   "outputs": [],
   "source": [
    "numpyDizisi=np.array([20,30,40,50]) #Dizi ile Series oluşturma"
   ]
  },
  {
   "cell_type": "code",
   "execution_count": 11,
   "id": "85b6e626",
   "metadata": {},
   "outputs": [
    {
     "data": {
      "text/plain": [
       "0    20\n",
       "1    30\n",
       "2    40\n",
       "3    50\n",
       "dtype: int32"
      ]
     },
     "execution_count": 11,
     "metadata": {},
     "output_type": "execute_result"
    }
   ],
   "source": [
    "pd.Series(numpyDizisi)"
   ]
  },
  {
   "cell_type": "code",
   "execution_count": 12,
   "id": "4b9a8d87",
   "metadata": {},
   "outputs": [],
   "source": [
    "yarismaSonucu1=pd.Series([20,50,10], [\"Ali\", \"Zeynep\", \"Duru\"]) # pd.Series([indeks], [Data])"
   ]
  },
  {
   "cell_type": "code",
   "execution_count": 13,
   "id": "247cb071",
   "metadata": {},
   "outputs": [],
   "source": [
    "yarismaSonucu2=pd.Series([80,70,50], [\"Ali\", \"Zeynep\", \"Duru\"])  # pd.Series([indeks], [Data])"
   ]
  },
  {
   "cell_type": "code",
   "execution_count": 14,
   "id": "018078e9",
   "metadata": {},
   "outputs": [
    {
     "data": {
      "text/plain": [
       "10"
      ]
     },
     "execution_count": 14,
     "metadata": {},
     "output_type": "execute_result"
    }
   ],
   "source": [
    "yarismaSonucu1[\"Duru\"]"
   ]
  },
  {
   "cell_type": "code",
   "execution_count": 15,
   "id": "3d82499f",
   "metadata": {},
   "outputs": [],
   "source": [
    "sonuc = yarismaSonucu1 + yarismaSonucu2 #2 tane series toplanabilir"
   ]
  },
  {
   "cell_type": "code",
   "execution_count": 16,
   "id": "62bc2e9c",
   "metadata": {},
   "outputs": [
    {
     "data": {
      "text/plain": [
       "Ali       100\n",
       "Zeynep    120\n",
       "Duru       60\n",
       "dtype: int64"
      ]
     },
     "execution_count": 16,
     "metadata": {},
     "output_type": "execute_result"
    }
   ],
   "source": [
    "sonuc"
   ]
  },
  {
   "cell_type": "code",
   "execution_count": 17,
   "id": "e74045d5",
   "metadata": {},
   "outputs": [],
   "source": [
    "Series1=pd.Series([2,7,10,15], [\"a\",\"b\",\"c\",\"d\"]) #Farklı Series'larda kesişmeyen noktalar nan değeri döndürür"
   ]
  },
  {
   "cell_type": "code",
   "execution_count": 18,
   "id": "5d18a841",
   "metadata": {},
   "outputs": [],
   "source": [
    "Series2=pd.Series([4,12,8,9], [\"a\",\"f\",\"g\",\"d\"])"
   ]
  },
  {
   "cell_type": "code",
   "execution_count": 19,
   "id": "37bb324e",
   "metadata": {},
   "outputs": [],
   "source": [
    "Son=Series1+Series2"
   ]
  },
  {
   "cell_type": "code",
   "execution_count": 20,
   "id": "090109a7",
   "metadata": {},
   "outputs": [
    {
     "data": {
      "text/plain": [
       "a     6.0\n",
       "b     NaN\n",
       "c     NaN\n",
       "d    24.0\n",
       "f     NaN\n",
       "g     NaN\n",
       "dtype: float64"
      ]
     },
     "execution_count": 20,
     "metadata": {},
     "output_type": "execute_result"
    }
   ],
   "source": [
    "Son"
   ]
  },
  {
   "cell_type": "markdown",
   "id": "a1953c60",
   "metadata": {},
   "source": [
    "## Data Frame"
   ]
  },
  {
   "cell_type": "code",
   "execution_count": 21,
   "id": "3f31da2d",
   "metadata": {},
   "outputs": [],
   "source": [
    "data = np.random.randn(4,3)"
   ]
  },
  {
   "cell_type": "code",
   "execution_count": 22,
   "id": "7ad91c85",
   "metadata": {},
   "outputs": [
    {
     "data": {
      "text/plain": [
       "array([[-1.62181432e-03, -4.41758798e-01, -5.85712959e-01],\n",
       "       [ 2.36198889e+00, -1.76583521e+00,  2.33748043e+00],\n",
       "       [ 1.59749384e+00, -1.67992827e-01, -5.31846019e-01],\n",
       "       [ 1.21303533e+00,  6.26933853e-01,  1.95612091e-03]])"
      ]
     },
     "execution_count": 22,
     "metadata": {},
     "output_type": "execute_result"
    }
   ],
   "source": [
    "data"
   ]
  },
  {
   "cell_type": "code",
   "execution_count": 23,
   "id": "8dfac242",
   "metadata": {},
   "outputs": [],
   "source": [
    "dataFrame=pd.DataFrame(data)"
   ]
  },
  {
   "cell_type": "code",
   "execution_count": 24,
   "id": "faec61e5",
   "metadata": {},
   "outputs": [
    {
     "data": {
      "text/html": [
       "<div>\n",
       "<style scoped>\n",
       "    .dataframe tbody tr th:only-of-type {\n",
       "        vertical-align: middle;\n",
       "    }\n",
       "\n",
       "    .dataframe tbody tr th {\n",
       "        vertical-align: top;\n",
       "    }\n",
       "\n",
       "    .dataframe thead th {\n",
       "        text-align: right;\n",
       "    }\n",
       "</style>\n",
       "<table border=\"1\" class=\"dataframe\">\n",
       "  <thead>\n",
       "    <tr style=\"text-align: right;\">\n",
       "      <th></th>\n",
       "      <th>0</th>\n",
       "      <th>1</th>\n",
       "      <th>2</th>\n",
       "    </tr>\n",
       "  </thead>\n",
       "  <tbody>\n",
       "    <tr>\n",
       "      <th>0</th>\n",
       "      <td>-0.001622</td>\n",
       "      <td>-0.441759</td>\n",
       "      <td>-0.585713</td>\n",
       "    </tr>\n",
       "    <tr>\n",
       "      <th>1</th>\n",
       "      <td>2.361989</td>\n",
       "      <td>-1.765835</td>\n",
       "      <td>2.337480</td>\n",
       "    </tr>\n",
       "    <tr>\n",
       "      <th>2</th>\n",
       "      <td>1.597494</td>\n",
       "      <td>-0.167993</td>\n",
       "      <td>-0.531846</td>\n",
       "    </tr>\n",
       "    <tr>\n",
       "      <th>3</th>\n",
       "      <td>1.213035</td>\n",
       "      <td>0.626934</td>\n",
       "      <td>0.001956</td>\n",
       "    </tr>\n",
       "  </tbody>\n",
       "</table>\n",
       "</div>"
      ],
      "text/plain": [
       "          0         1         2\n",
       "0 -0.001622 -0.441759 -0.585713\n",
       "1  2.361989 -1.765835  2.337480\n",
       "2  1.597494 -0.167993 -0.531846\n",
       "3  1.213035  0.626934  0.001956"
      ]
     },
     "execution_count": 24,
     "metadata": {},
     "output_type": "execute_result"
    }
   ],
   "source": [
    "dataFrame #Datayı excel gibi kopyalıyor"
   ]
  },
  {
   "cell_type": "code",
   "execution_count": 25,
   "id": "7bc4d37e",
   "metadata": {},
   "outputs": [],
   "source": [
    "newDataFrame = pd.DataFrame(data,index=[\"Duru\",\"Asil\",\"Deniz\",\"Aslan\"],columns=[\"Maas\",\"Yas\",\"Calisma Saati\"])"
   ]
  },
  {
   "cell_type": "code",
   "execution_count": 26,
   "id": "4c941909",
   "metadata": {},
   "outputs": [
    {
     "data": {
      "text/html": [
       "<div>\n",
       "<style scoped>\n",
       "    .dataframe tbody tr th:only-of-type {\n",
       "        vertical-align: middle;\n",
       "    }\n",
       "\n",
       "    .dataframe tbody tr th {\n",
       "        vertical-align: top;\n",
       "    }\n",
       "\n",
       "    .dataframe thead th {\n",
       "        text-align: right;\n",
       "    }\n",
       "</style>\n",
       "<table border=\"1\" class=\"dataframe\">\n",
       "  <thead>\n",
       "    <tr style=\"text-align: right;\">\n",
       "      <th></th>\n",
       "      <th>Maas</th>\n",
       "      <th>Yas</th>\n",
       "      <th>Calisma Saati</th>\n",
       "    </tr>\n",
       "  </thead>\n",
       "  <tbody>\n",
       "    <tr>\n",
       "      <th>Duru</th>\n",
       "      <td>-0.001622</td>\n",
       "      <td>-0.441759</td>\n",
       "      <td>-0.585713</td>\n",
       "    </tr>\n",
       "    <tr>\n",
       "      <th>Asil</th>\n",
       "      <td>2.361989</td>\n",
       "      <td>-1.765835</td>\n",
       "      <td>2.337480</td>\n",
       "    </tr>\n",
       "    <tr>\n",
       "      <th>Deniz</th>\n",
       "      <td>1.597494</td>\n",
       "      <td>-0.167993</td>\n",
       "      <td>-0.531846</td>\n",
       "    </tr>\n",
       "    <tr>\n",
       "      <th>Aslan</th>\n",
       "      <td>1.213035</td>\n",
       "      <td>0.626934</td>\n",
       "      <td>0.001956</td>\n",
       "    </tr>\n",
       "  </tbody>\n",
       "</table>\n",
       "</div>"
      ],
      "text/plain": [
       "           Maas       Yas  Calisma Saati\n",
       "Duru  -0.001622 -0.441759      -0.585713\n",
       "Asil   2.361989 -1.765835       2.337480\n",
       "Deniz  1.597494 -0.167993      -0.531846\n",
       "Aslan  1.213035  0.626934       0.001956"
      ]
     },
     "execution_count": 26,
     "metadata": {},
     "output_type": "execute_result"
    }
   ],
   "source": [
    "newDataFrame"
   ]
  },
  {
   "cell_type": "code",
   "execution_count": 27,
   "id": "ea38b025",
   "metadata": {},
   "outputs": [
    {
     "data": {
      "text/html": [
       "<div>\n",
       "<style scoped>\n",
       "    .dataframe tbody tr th:only-of-type {\n",
       "        vertical-align: middle;\n",
       "    }\n",
       "\n",
       "    .dataframe tbody tr th {\n",
       "        vertical-align: top;\n",
       "    }\n",
       "\n",
       "    .dataframe thead th {\n",
       "        text-align: right;\n",
       "    }\n",
       "</style>\n",
       "<table border=\"1\" class=\"dataframe\">\n",
       "  <thead>\n",
       "    <tr style=\"text-align: right;\">\n",
       "      <th></th>\n",
       "      <th>Yas</th>\n",
       "      <th>Maas</th>\n",
       "    </tr>\n",
       "  </thead>\n",
       "  <tbody>\n",
       "    <tr>\n",
       "      <th>Duru</th>\n",
       "      <td>-0.441759</td>\n",
       "      <td>-0.001622</td>\n",
       "    </tr>\n",
       "    <tr>\n",
       "      <th>Asil</th>\n",
       "      <td>-1.765835</td>\n",
       "      <td>2.361989</td>\n",
       "    </tr>\n",
       "    <tr>\n",
       "      <th>Deniz</th>\n",
       "      <td>-0.167993</td>\n",
       "      <td>1.597494</td>\n",
       "    </tr>\n",
       "    <tr>\n",
       "      <th>Aslan</th>\n",
       "      <td>0.626934</td>\n",
       "      <td>1.213035</td>\n",
       "    </tr>\n",
       "  </tbody>\n",
       "</table>\n",
       "</div>"
      ],
      "text/plain": [
       "            Yas      Maas\n",
       "Duru  -0.441759 -0.001622\n",
       "Asil  -1.765835  2.361989\n",
       "Deniz -0.167993  1.597494\n",
       "Aslan  0.626934  1.213035"
      ]
     },
     "execution_count": 27,
     "metadata": {},
     "output_type": "execute_result"
    }
   ],
   "source": [
    "newDataFrame[[\"Yas\", \"Maas\" ]]#Veri çerçevesinden sadece belirli bir kısmı görüntüleyyebiliriz"
   ]
  },
  {
   "cell_type": "code",
   "execution_count": 28,
   "id": "8dc70056",
   "metadata": {},
   "outputs": [
    {
     "data": {
      "text/html": [
       "<div>\n",
       "<style scoped>\n",
       "    .dataframe tbody tr th:only-of-type {\n",
       "        vertical-align: middle;\n",
       "    }\n",
       "\n",
       "    .dataframe tbody tr th {\n",
       "        vertical-align: top;\n",
       "    }\n",
       "\n",
       "    .dataframe thead th {\n",
       "        text-align: right;\n",
       "    }\n",
       "</style>\n",
       "<table border=\"1\" class=\"dataframe\">\n",
       "  <thead>\n",
       "    <tr style=\"text-align: right;\">\n",
       "      <th></th>\n",
       "      <th>Maas</th>\n",
       "      <th>Yas</th>\n",
       "      <th>Calisma Saati</th>\n",
       "    </tr>\n",
       "  </thead>\n",
       "  <tbody>\n",
       "    <tr>\n",
       "      <th>Duru</th>\n",
       "      <td>-0.001622</td>\n",
       "      <td>-0.441759</td>\n",
       "      <td>-0.585713</td>\n",
       "    </tr>\n",
       "  </tbody>\n",
       "</table>\n",
       "</div>"
      ],
      "text/plain": [
       "          Maas       Yas  Calisma Saati\n",
       "Duru -0.001622 -0.441759      -0.585713"
      ]
     },
     "execution_count": 28,
     "metadata": {},
     "output_type": "execute_result"
    }
   ],
   "source": [
    "newDataFrame.loc[[\"Duru\"]]#Sadece bir satırı(row) görüntülemek istenirse"
   ]
  },
  {
   "cell_type": "code",
   "execution_count": 29,
   "id": "f5e6fd99",
   "metadata": {},
   "outputs": [
    {
     "data": {
      "text/html": [
       "<div>\n",
       "<style scoped>\n",
       "    .dataframe tbody tr th:only-of-type {\n",
       "        vertical-align: middle;\n",
       "    }\n",
       "\n",
       "    .dataframe tbody tr th {\n",
       "        vertical-align: top;\n",
       "    }\n",
       "\n",
       "    .dataframe thead th {\n",
       "        text-align: right;\n",
       "    }\n",
       "</style>\n",
       "<table border=\"1\" class=\"dataframe\">\n",
       "  <thead>\n",
       "    <tr style=\"text-align: right;\">\n",
       "      <th></th>\n",
       "      <th>Maas</th>\n",
       "      <th>Yas</th>\n",
       "      <th>Calisma Saati</th>\n",
       "    </tr>\n",
       "  </thead>\n",
       "  <tbody>\n",
       "    <tr>\n",
       "      <th>Duru</th>\n",
       "      <td>-0.001622</td>\n",
       "      <td>-0.441759</td>\n",
       "      <td>-0.585713</td>\n",
       "    </tr>\n",
       "  </tbody>\n",
       "</table>\n",
       "</div>"
      ],
      "text/plain": [
       "          Maas       Yas  Calisma Saati\n",
       "Duru -0.001622 -0.441759      -0.585713"
      ]
     },
     "execution_count": 29,
     "metadata": {},
     "output_type": "execute_result"
    }
   ],
   "source": [
    "newDataFrame.iloc[[0]] #İndeksi belirterekte istenilen satırı listeleyebiliriz"
   ]
  },
  {
   "cell_type": "markdown",
   "id": "d253e1aa",
   "metadata": {},
   "source": [
    "## Data Frame İndeksler"
   ]
  },
  {
   "cell_type": "code",
   "execution_count": 30,
   "id": "4754a5e3",
   "metadata": {},
   "outputs": [
    {
     "data": {
      "text/html": [
       "<div>\n",
       "<style scoped>\n",
       "    .dataframe tbody tr th:only-of-type {\n",
       "        vertical-align: middle;\n",
       "    }\n",
       "\n",
       "    .dataframe tbody tr th {\n",
       "        vertical-align: top;\n",
       "    }\n",
       "\n",
       "    .dataframe thead th {\n",
       "        text-align: right;\n",
       "    }\n",
       "</style>\n",
       "<table border=\"1\" class=\"dataframe\">\n",
       "  <thead>\n",
       "    <tr style=\"text-align: right;\">\n",
       "      <th></th>\n",
       "      <th>Maas</th>\n",
       "      <th>Yas</th>\n",
       "      <th>Calisma Saati</th>\n",
       "    </tr>\n",
       "  </thead>\n",
       "  <tbody>\n",
       "    <tr>\n",
       "      <th>Duru</th>\n",
       "      <td>-0.001622</td>\n",
       "      <td>-0.441759</td>\n",
       "      <td>-0.585713</td>\n",
       "    </tr>\n",
       "    <tr>\n",
       "      <th>Asil</th>\n",
       "      <td>2.361989</td>\n",
       "      <td>-1.765835</td>\n",
       "      <td>2.337480</td>\n",
       "    </tr>\n",
       "    <tr>\n",
       "      <th>Deniz</th>\n",
       "      <td>1.597494</td>\n",
       "      <td>-0.167993</td>\n",
       "      <td>-0.531846</td>\n",
       "    </tr>\n",
       "    <tr>\n",
       "      <th>Aslan</th>\n",
       "      <td>1.213035</td>\n",
       "      <td>0.626934</td>\n",
       "      <td>0.001956</td>\n",
       "    </tr>\n",
       "  </tbody>\n",
       "</table>\n",
       "</div>"
      ],
      "text/plain": [
       "           Maas       Yas  Calisma Saati\n",
       "Duru  -0.001622 -0.441759      -0.585713\n",
       "Asil   2.361989 -1.765835       2.337480\n",
       "Deniz  1.597494 -0.167993      -0.531846\n",
       "Aslan  1.213035  0.626934       0.001956"
      ]
     },
     "execution_count": 30,
     "metadata": {},
     "output_type": "execute_result"
    }
   ],
   "source": [
    "newDataFrame"
   ]
  },
  {
   "cell_type": "code",
   "execution_count": 31,
   "id": "80609860",
   "metadata": {},
   "outputs": [],
   "source": [
    "newDataFrame[\"Emeklilik Yasi\"] = newDataFrame[\"Yas\"] + newDataFrame[\"Yas\"] #Yeni column eklemek "
   ]
  },
  {
   "cell_type": "code",
   "execution_count": 32,
   "id": "380924b1",
   "metadata": {},
   "outputs": [
    {
     "data": {
      "text/html": [
       "<div>\n",
       "<style scoped>\n",
       "    .dataframe tbody tr th:only-of-type {\n",
       "        vertical-align: middle;\n",
       "    }\n",
       "\n",
       "    .dataframe tbody tr th {\n",
       "        vertical-align: top;\n",
       "    }\n",
       "\n",
       "    .dataframe thead th {\n",
       "        text-align: right;\n",
       "    }\n",
       "</style>\n",
       "<table border=\"1\" class=\"dataframe\">\n",
       "  <thead>\n",
       "    <tr style=\"text-align: right;\">\n",
       "      <th></th>\n",
       "      <th>Maas</th>\n",
       "      <th>Yas</th>\n",
       "      <th>Calisma Saati</th>\n",
       "      <th>Emeklilik Yasi</th>\n",
       "    </tr>\n",
       "  </thead>\n",
       "  <tbody>\n",
       "    <tr>\n",
       "      <th>Duru</th>\n",
       "      <td>-0.001622</td>\n",
       "      <td>-0.441759</td>\n",
       "      <td>-0.585713</td>\n",
       "      <td>-0.883518</td>\n",
       "    </tr>\n",
       "    <tr>\n",
       "      <th>Asil</th>\n",
       "      <td>2.361989</td>\n",
       "      <td>-1.765835</td>\n",
       "      <td>2.337480</td>\n",
       "      <td>-3.531670</td>\n",
       "    </tr>\n",
       "    <tr>\n",
       "      <th>Deniz</th>\n",
       "      <td>1.597494</td>\n",
       "      <td>-0.167993</td>\n",
       "      <td>-0.531846</td>\n",
       "      <td>-0.335986</td>\n",
       "    </tr>\n",
       "    <tr>\n",
       "      <th>Aslan</th>\n",
       "      <td>1.213035</td>\n",
       "      <td>0.626934</td>\n",
       "      <td>0.001956</td>\n",
       "      <td>1.253868</td>\n",
       "    </tr>\n",
       "  </tbody>\n",
       "</table>\n",
       "</div>"
      ],
      "text/plain": [
       "           Maas       Yas  Calisma Saati  Emeklilik Yasi\n",
       "Duru  -0.001622 -0.441759      -0.585713       -0.883518\n",
       "Asil   2.361989 -1.765835       2.337480       -3.531670\n",
       "Deniz  1.597494 -0.167993      -0.531846       -0.335986\n",
       "Aslan  1.213035  0.626934       0.001956        1.253868"
      ]
     },
     "execution_count": 32,
     "metadata": {},
     "output_type": "execute_result"
    }
   ],
   "source": [
    "newDataFrame"
   ]
  },
  {
   "cell_type": "code",
   "execution_count": 33,
   "id": "32944722",
   "metadata": {},
   "outputs": [
    {
     "data": {
      "text/html": [
       "<div>\n",
       "<style scoped>\n",
       "    .dataframe tbody tr th:only-of-type {\n",
       "        vertical-align: middle;\n",
       "    }\n",
       "\n",
       "    .dataframe tbody tr th {\n",
       "        vertical-align: top;\n",
       "    }\n",
       "\n",
       "    .dataframe thead th {\n",
       "        text-align: right;\n",
       "    }\n",
       "</style>\n",
       "<table border=\"1\" class=\"dataframe\">\n",
       "  <thead>\n",
       "    <tr style=\"text-align: right;\">\n",
       "      <th></th>\n",
       "      <th>Maas</th>\n",
       "      <th>Yas</th>\n",
       "      <th>Calisma Saati</th>\n",
       "    </tr>\n",
       "  </thead>\n",
       "  <tbody>\n",
       "    <tr>\n",
       "      <th>Duru</th>\n",
       "      <td>-0.001622</td>\n",
       "      <td>-0.441759</td>\n",
       "      <td>-0.585713</td>\n",
       "    </tr>\n",
       "    <tr>\n",
       "      <th>Asil</th>\n",
       "      <td>2.361989</td>\n",
       "      <td>-1.765835</td>\n",
       "      <td>2.337480</td>\n",
       "    </tr>\n",
       "    <tr>\n",
       "      <th>Deniz</th>\n",
       "      <td>1.597494</td>\n",
       "      <td>-0.167993</td>\n",
       "      <td>-0.531846</td>\n",
       "    </tr>\n",
       "    <tr>\n",
       "      <th>Aslan</th>\n",
       "      <td>1.213035</td>\n",
       "      <td>0.626934</td>\n",
       "      <td>0.001956</td>\n",
       "    </tr>\n",
       "  </tbody>\n",
       "</table>\n",
       "</div>"
      ],
      "text/plain": [
       "           Maas       Yas  Calisma Saati\n",
       "Duru  -0.001622 -0.441759      -0.585713\n",
       "Asil   2.361989 -1.765835       2.337480\n",
       "Deniz  1.597494 -0.167993      -0.531846\n",
       "Aslan  1.213035  0.626934       0.001956"
      ]
     },
     "execution_count": 33,
     "metadata": {},
     "output_type": "execute_result"
    }
   ],
   "source": [
    "newDataFrame.drop(\"Emeklilik Yasi\", axis=1) #Herhangi bir şey silmek için drop kullanılır\n",
    "#axis=1 argümanı, \"drop()\" fonksiyonunun sütun (column) seviyesinde işlem yapacağını belirtir. "
   ]
  },
  {
   "cell_type": "code",
   "execution_count": 34,
   "id": "70ec1adb",
   "metadata": {},
   "outputs": [
    {
     "data": {
      "text/html": [
       "<div>\n",
       "<style scoped>\n",
       "    .dataframe tbody tr th:only-of-type {\n",
       "        vertical-align: middle;\n",
       "    }\n",
       "\n",
       "    .dataframe tbody tr th {\n",
       "        vertical-align: top;\n",
       "    }\n",
       "\n",
       "    .dataframe thead th {\n",
       "        text-align: right;\n",
       "    }\n",
       "</style>\n",
       "<table border=\"1\" class=\"dataframe\">\n",
       "  <thead>\n",
       "    <tr style=\"text-align: right;\">\n",
       "      <th></th>\n",
       "      <th>Maas</th>\n",
       "      <th>Yas</th>\n",
       "      <th>Calisma Saati</th>\n",
       "      <th>Emeklilik Yasi</th>\n",
       "    </tr>\n",
       "  </thead>\n",
       "  <tbody>\n",
       "    <tr>\n",
       "      <th>Asil</th>\n",
       "      <td>2.361989</td>\n",
       "      <td>-1.765835</td>\n",
       "      <td>2.337480</td>\n",
       "      <td>-3.531670</td>\n",
       "    </tr>\n",
       "    <tr>\n",
       "      <th>Deniz</th>\n",
       "      <td>1.597494</td>\n",
       "      <td>-0.167993</td>\n",
       "      <td>-0.531846</td>\n",
       "      <td>-0.335986</td>\n",
       "    </tr>\n",
       "    <tr>\n",
       "      <th>Aslan</th>\n",
       "      <td>1.213035</td>\n",
       "      <td>0.626934</td>\n",
       "      <td>0.001956</td>\n",
       "      <td>1.253868</td>\n",
       "    </tr>\n",
       "  </tbody>\n",
       "</table>\n",
       "</div>"
      ],
      "text/plain": [
       "           Maas       Yas  Calisma Saati  Emeklilik Yasi\n",
       "Asil   2.361989 -1.765835       2.337480       -3.531670\n",
       "Deniz  1.597494 -0.167993      -0.531846       -0.335986\n",
       "Aslan  1.213035  0.626934       0.001956        1.253868"
      ]
     },
     "execution_count": 34,
     "metadata": {},
     "output_type": "execute_result"
    }
   ],
   "source": [
    "newDataFrame.drop(\"Duru\", axis=0) #axis=0 olarak ayarlanırsa, satır (row) seviyesinde işlem yapacaktır."
   ]
  },
  {
   "cell_type": "code",
   "execution_count": 35,
   "id": "66de9052",
   "metadata": {},
   "outputs": [
    {
     "data": {
      "text/html": [
       "<div>\n",
       "<style scoped>\n",
       "    .dataframe tbody tr th:only-of-type {\n",
       "        vertical-align: middle;\n",
       "    }\n",
       "\n",
       "    .dataframe tbody tr th {\n",
       "        vertical-align: top;\n",
       "    }\n",
       "\n",
       "    .dataframe thead th {\n",
       "        text-align: right;\n",
       "    }\n",
       "</style>\n",
       "<table border=\"1\" class=\"dataframe\">\n",
       "  <thead>\n",
       "    <tr style=\"text-align: right;\">\n",
       "      <th></th>\n",
       "      <th>Maas</th>\n",
       "      <th>Yas</th>\n",
       "      <th>Calisma Saati</th>\n",
       "      <th>Emeklilik Yasi</th>\n",
       "    </tr>\n",
       "  </thead>\n",
       "  <tbody>\n",
       "    <tr>\n",
       "      <th>Duru</th>\n",
       "      <td>-0.001622</td>\n",
       "      <td>-0.441759</td>\n",
       "      <td>-0.585713</td>\n",
       "      <td>-0.883518</td>\n",
       "    </tr>\n",
       "    <tr>\n",
       "      <th>Asil</th>\n",
       "      <td>2.361989</td>\n",
       "      <td>-1.765835</td>\n",
       "      <td>2.337480</td>\n",
       "      <td>-3.531670</td>\n",
       "    </tr>\n",
       "    <tr>\n",
       "      <th>Deniz</th>\n",
       "      <td>1.597494</td>\n",
       "      <td>-0.167993</td>\n",
       "      <td>-0.531846</td>\n",
       "      <td>-0.335986</td>\n",
       "    </tr>\n",
       "    <tr>\n",
       "      <th>Aslan</th>\n",
       "      <td>1.213035</td>\n",
       "      <td>0.626934</td>\n",
       "      <td>0.001956</td>\n",
       "      <td>1.253868</td>\n",
       "    </tr>\n",
       "  </tbody>\n",
       "</table>\n",
       "</div>"
      ],
      "text/plain": [
       "           Maas       Yas  Calisma Saati  Emeklilik Yasi\n",
       "Duru  -0.001622 -0.441759      -0.585713       -0.883518\n",
       "Asil   2.361989 -1.765835       2.337480       -3.531670\n",
       "Deniz  1.597494 -0.167993      -0.531846       -0.335986\n",
       "Aslan  1.213035  0.626934       0.001956        1.253868"
      ]
     },
     "execution_count": 35,
     "metadata": {},
     "output_type": "execute_result"
    }
   ],
   "source": [
    "newDataFrame #newDataFrame çağırdığımızda Emeklilik Yasi sütunu ve Duru Satırının silinmediğini görüyoruz.\n",
    "#Drop kalıcı değişiklik yapmaz"
   ]
  },
  {
   "cell_type": "code",
   "execution_count": 36,
   "id": "f0499d66",
   "metadata": {},
   "outputs": [],
   "source": [
    "newDataFrame.drop(\"Emeklilik Yasi\", axis=1, inplace = True) \n",
    "#değişikliği kalıcı hale getirmek istiyorsak, \"inplace=True\" parametresini eklememiz gerekir"
   ]
  },
  {
   "cell_type": "code",
   "execution_count": 37,
   "id": "a7f05f23",
   "metadata": {},
   "outputs": [
    {
     "data": {
      "text/html": [
       "<div>\n",
       "<style scoped>\n",
       "    .dataframe tbody tr th:only-of-type {\n",
       "        vertical-align: middle;\n",
       "    }\n",
       "\n",
       "    .dataframe tbody tr th {\n",
       "        vertical-align: top;\n",
       "    }\n",
       "\n",
       "    .dataframe thead th {\n",
       "        text-align: right;\n",
       "    }\n",
       "</style>\n",
       "<table border=\"1\" class=\"dataframe\">\n",
       "  <thead>\n",
       "    <tr style=\"text-align: right;\">\n",
       "      <th></th>\n",
       "      <th>Maas</th>\n",
       "      <th>Yas</th>\n",
       "      <th>Calisma Saati</th>\n",
       "    </tr>\n",
       "  </thead>\n",
       "  <tbody>\n",
       "    <tr>\n",
       "      <th>Duru</th>\n",
       "      <td>-0.001622</td>\n",
       "      <td>-0.441759</td>\n",
       "      <td>-0.585713</td>\n",
       "    </tr>\n",
       "    <tr>\n",
       "      <th>Asil</th>\n",
       "      <td>2.361989</td>\n",
       "      <td>-1.765835</td>\n",
       "      <td>2.337480</td>\n",
       "    </tr>\n",
       "    <tr>\n",
       "      <th>Deniz</th>\n",
       "      <td>1.597494</td>\n",
       "      <td>-0.167993</td>\n",
       "      <td>-0.531846</td>\n",
       "    </tr>\n",
       "    <tr>\n",
       "      <th>Aslan</th>\n",
       "      <td>1.213035</td>\n",
       "      <td>0.626934</td>\n",
       "      <td>0.001956</td>\n",
       "    </tr>\n",
       "  </tbody>\n",
       "</table>\n",
       "</div>"
      ],
      "text/plain": [
       "           Maas       Yas  Calisma Saati\n",
       "Duru  -0.001622 -0.441759      -0.585713\n",
       "Asil   2.361989 -1.765835       2.337480\n",
       "Deniz  1.597494 -0.167993      -0.531846\n",
       "Aslan  1.213035  0.626934       0.001956"
      ]
     },
     "execution_count": 37,
     "metadata": {},
     "output_type": "execute_result"
    }
   ],
   "source": [
    "newDataFrame"
   ]
  },
  {
   "cell_type": "code",
   "execution_count": 38,
   "id": "8cffe335",
   "metadata": {},
   "outputs": [],
   "source": [
    "newDataFrame.drop(\"Duru\", axis=0,inplace = True)"
   ]
  },
  {
   "cell_type": "code",
   "execution_count": 39,
   "id": "f8c7f888",
   "metadata": {},
   "outputs": [
    {
     "data": {
      "text/html": [
       "<div>\n",
       "<style scoped>\n",
       "    .dataframe tbody tr th:only-of-type {\n",
       "        vertical-align: middle;\n",
       "    }\n",
       "\n",
       "    .dataframe tbody tr th {\n",
       "        vertical-align: top;\n",
       "    }\n",
       "\n",
       "    .dataframe thead th {\n",
       "        text-align: right;\n",
       "    }\n",
       "</style>\n",
       "<table border=\"1\" class=\"dataframe\">\n",
       "  <thead>\n",
       "    <tr style=\"text-align: right;\">\n",
       "      <th></th>\n",
       "      <th>Maas</th>\n",
       "      <th>Yas</th>\n",
       "      <th>Calisma Saati</th>\n",
       "    </tr>\n",
       "  </thead>\n",
       "  <tbody>\n",
       "    <tr>\n",
       "      <th>Asil</th>\n",
       "      <td>2.361989</td>\n",
       "      <td>-1.765835</td>\n",
       "      <td>2.337480</td>\n",
       "    </tr>\n",
       "    <tr>\n",
       "      <th>Deniz</th>\n",
       "      <td>1.597494</td>\n",
       "      <td>-0.167993</td>\n",
       "      <td>-0.531846</td>\n",
       "    </tr>\n",
       "    <tr>\n",
       "      <th>Aslan</th>\n",
       "      <td>1.213035</td>\n",
       "      <td>0.626934</td>\n",
       "      <td>0.001956</td>\n",
       "    </tr>\n",
       "  </tbody>\n",
       "</table>\n",
       "</div>"
      ],
      "text/plain": [
       "           Maas       Yas  Calisma Saati\n",
       "Asil   2.361989 -1.765835       2.337480\n",
       "Deniz  1.597494 -0.167993      -0.531846\n",
       "Aslan  1.213035  0.626934       0.001956"
      ]
     },
     "execution_count": 39,
     "metadata": {},
     "output_type": "execute_result"
    }
   ],
   "source": [
    "newDataFrame"
   ]
  },
  {
   "cell_type": "code",
   "execution_count": 40,
   "id": "26ac2638",
   "metadata": {},
   "outputs": [
    {
     "data": {
      "text/plain": [
       "2.337480431005116"
      ]
     },
     "execution_count": 40,
     "metadata": {},
     "output_type": "execute_result"
    }
   ],
   "source": [
    "newDataFrame.loc[\"Asil\"][\"Calisma Saati\"] #Sadece istenilen satırın istenilen sütununu listeleyebiliriz"
   ]
  },
  {
   "cell_type": "code",
   "execution_count": 41,
   "id": "a6f50512",
   "metadata": {},
   "outputs": [
    {
     "data": {
      "text/plain": [
       "0.6269338526374153"
      ]
     },
     "execution_count": 41,
     "metadata": {},
     "output_type": "execute_result"
    }
   ],
   "source": [
    "newDataFrame.loc[\"Aslan\"][\"Yas\"]  #Sadece istenilen satırın istenilen sütununu listeleyebiliriz"
   ]
  },
  {
   "cell_type": "code",
   "execution_count": 42,
   "id": "701e597d",
   "metadata": {},
   "outputs": [
    {
     "data": {
      "text/html": [
       "<div>\n",
       "<style scoped>\n",
       "    .dataframe tbody tr th:only-of-type {\n",
       "        vertical-align: middle;\n",
       "    }\n",
       "\n",
       "    .dataframe tbody tr th {\n",
       "        vertical-align: top;\n",
       "    }\n",
       "\n",
       "    .dataframe thead th {\n",
       "        text-align: right;\n",
       "    }\n",
       "</style>\n",
       "<table border=\"1\" class=\"dataframe\">\n",
       "  <thead>\n",
       "    <tr style=\"text-align: right;\">\n",
       "      <th></th>\n",
       "      <th>Maas</th>\n",
       "      <th>Yas</th>\n",
       "      <th>Calisma Saati</th>\n",
       "    </tr>\n",
       "  </thead>\n",
       "  <tbody>\n",
       "    <tr>\n",
       "      <th>Asil</th>\n",
       "      <td>2.361989</td>\n",
       "      <td>-1.765835</td>\n",
       "      <td>2.337480</td>\n",
       "    </tr>\n",
       "    <tr>\n",
       "      <th>Deniz</th>\n",
       "      <td>1.597494</td>\n",
       "      <td>-0.167993</td>\n",
       "      <td>-0.531846</td>\n",
       "    </tr>\n",
       "    <tr>\n",
       "      <th>Aslan</th>\n",
       "      <td>1.213035</td>\n",
       "      <td>0.626934</td>\n",
       "      <td>0.001956</td>\n",
       "    </tr>\n",
       "  </tbody>\n",
       "</table>\n",
       "</div>"
      ],
      "text/plain": [
       "           Maas       Yas  Calisma Saati\n",
       "Asil   2.361989 -1.765835       2.337480\n",
       "Deniz  1.597494 -0.167993      -0.531846\n",
       "Aslan  1.213035  0.626934       0.001956"
      ]
     },
     "execution_count": 42,
     "metadata": {},
     "output_type": "execute_result"
    }
   ],
   "source": [
    "newDataFrame"
   ]
  },
  {
   "cell_type": "code",
   "execution_count": 43,
   "id": "283f6efc",
   "metadata": {},
   "outputs": [
    {
     "data": {
      "text/html": [
       "<div>\n",
       "<style scoped>\n",
       "    .dataframe tbody tr th:only-of-type {\n",
       "        vertical-align: middle;\n",
       "    }\n",
       "\n",
       "    .dataframe tbody tr th {\n",
       "        vertical-align: top;\n",
       "    }\n",
       "\n",
       "    .dataframe thead th {\n",
       "        text-align: right;\n",
       "    }\n",
       "</style>\n",
       "<table border=\"1\" class=\"dataframe\">\n",
       "  <thead>\n",
       "    <tr style=\"text-align: right;\">\n",
       "      <th></th>\n",
       "      <th>Maas</th>\n",
       "      <th>Yas</th>\n",
       "      <th>Calisma Saati</th>\n",
       "    </tr>\n",
       "  </thead>\n",
       "  <tbody>\n",
       "    <tr>\n",
       "      <th>Asil</th>\n",
       "      <td>False</td>\n",
       "      <td>True</td>\n",
       "      <td>False</td>\n",
       "    </tr>\n",
       "    <tr>\n",
       "      <th>Deniz</th>\n",
       "      <td>False</td>\n",
       "      <td>True</td>\n",
       "      <td>True</td>\n",
       "    </tr>\n",
       "    <tr>\n",
       "      <th>Aslan</th>\n",
       "      <td>False</td>\n",
       "      <td>False</td>\n",
       "      <td>False</td>\n",
       "    </tr>\n",
       "  </tbody>\n",
       "</table>\n",
       "</div>"
      ],
      "text/plain": [
       "        Maas    Yas  Calisma Saati\n",
       "Asil   False   True          False\n",
       "Deniz  False   True           True\n",
       "Aslan  False  False          False"
      ]
     },
     "execution_count": 43,
     "metadata": {},
     "output_type": "execute_result"
    }
   ],
   "source": [
    "newDataFrame < 0 #elemanları 0 dan küçük olanlar için true olmayanlar için false değerini döndürecektir"
   ]
  },
  {
   "cell_type": "code",
   "execution_count": 44,
   "id": "9b373cb9",
   "metadata": {},
   "outputs": [
    {
     "data": {
      "text/plain": [
       "Asil     False\n",
       "Deniz    False\n",
       "Aslan     True\n",
       "Name: Yas, dtype: bool"
      ]
     },
     "execution_count": 44,
     "metadata": {},
     "output_type": "execute_result"
    }
   ],
   "source": [
    "newDataFrame[\"Yas\"] > 0 #sadece yas sutununuda aynı şekilde kontrol edebiliriz"
   ]
  },
  {
   "cell_type": "code",
   "execution_count": 45,
   "id": "4db50a7f",
   "metadata": {},
   "outputs": [],
   "source": [
    "newDataFrame[\"Emeklilik Yasi\"] = newDataFrame[\"Yas\"] + newDataFrame[\"Yas\"] #Yeni column eklemek \n",
    "#emeklilik yası adında sütun eklendi ve bu sütun yas sütünlarının toplanmasındann oluştu"
   ]
  },
  {
   "cell_type": "code",
   "execution_count": 46,
   "id": "6208359b",
   "metadata": {},
   "outputs": [],
   "source": [
    "newDataFrame = pd.DataFrame(data,index=[\"Duru\",\"Asil\",\"Deniz\",\"Aslan\"],columns=[\"Maas\",\"Yas\",\"Calisma Saati\"])"
   ]
  },
  {
   "cell_type": "code",
   "execution_count": 47,
   "id": "8a50dcf9",
   "metadata": {},
   "outputs": [
    {
     "data": {
      "text/html": [
       "<div>\n",
       "<style scoped>\n",
       "    .dataframe tbody tr th:only-of-type {\n",
       "        vertical-align: middle;\n",
       "    }\n",
       "\n",
       "    .dataframe tbody tr th {\n",
       "        vertical-align: top;\n",
       "    }\n",
       "\n",
       "    .dataframe thead th {\n",
       "        text-align: right;\n",
       "    }\n",
       "</style>\n",
       "<table border=\"1\" class=\"dataframe\">\n",
       "  <thead>\n",
       "    <tr style=\"text-align: right;\">\n",
       "      <th></th>\n",
       "      <th>Maas</th>\n",
       "      <th>Yas</th>\n",
       "      <th>Calisma Saati</th>\n",
       "    </tr>\n",
       "  </thead>\n",
       "  <tbody>\n",
       "    <tr>\n",
       "      <th>Duru</th>\n",
       "      <td>-0.001622</td>\n",
       "      <td>-0.441759</td>\n",
       "      <td>-0.585713</td>\n",
       "    </tr>\n",
       "    <tr>\n",
       "      <th>Asil</th>\n",
       "      <td>2.361989</td>\n",
       "      <td>-1.765835</td>\n",
       "      <td>2.337480</td>\n",
       "    </tr>\n",
       "    <tr>\n",
       "      <th>Deniz</th>\n",
       "      <td>1.597494</td>\n",
       "      <td>-0.167993</td>\n",
       "      <td>-0.531846</td>\n",
       "    </tr>\n",
       "    <tr>\n",
       "      <th>Aslan</th>\n",
       "      <td>1.213035</td>\n",
       "      <td>0.626934</td>\n",
       "      <td>0.001956</td>\n",
       "    </tr>\n",
       "  </tbody>\n",
       "</table>\n",
       "</div>"
      ],
      "text/plain": [
       "           Maas       Yas  Calisma Saati\n",
       "Duru  -0.001622 -0.441759      -0.585713\n",
       "Asil   2.361989 -1.765835       2.337480\n",
       "Deniz  1.597494 -0.167993      -0.531846\n",
       "Aslan  1.213035  0.626934       0.001956"
      ]
     },
     "execution_count": 47,
     "metadata": {},
     "output_type": "execute_result"
    }
   ],
   "source": [
    "newDataFrame"
   ]
  },
  {
   "cell_type": "code",
   "execution_count": 48,
   "id": "e891f76c",
   "metadata": {},
   "outputs": [],
   "source": [
    "newDataFrame[\"Emeklilik Yasi\"] = newDataFrame[\"Yas\"] + newDataFrame[\"Yas\"] #Yeni column eklemek "
   ]
  },
  {
   "cell_type": "code",
   "execution_count": 49,
   "id": "5b2eb077",
   "metadata": {},
   "outputs": [
    {
     "data": {
      "text/html": [
       "<div>\n",
       "<style scoped>\n",
       "    .dataframe tbody tr th:only-of-type {\n",
       "        vertical-align: middle;\n",
       "    }\n",
       "\n",
       "    .dataframe tbody tr th {\n",
       "        vertical-align: top;\n",
       "    }\n",
       "\n",
       "    .dataframe thead th {\n",
       "        text-align: right;\n",
       "    }\n",
       "</style>\n",
       "<table border=\"1\" class=\"dataframe\">\n",
       "  <thead>\n",
       "    <tr style=\"text-align: right;\">\n",
       "      <th></th>\n",
       "      <th>Maas</th>\n",
       "      <th>Yas</th>\n",
       "      <th>Calisma Saati</th>\n",
       "      <th>Emeklilik Yasi</th>\n",
       "    </tr>\n",
       "  </thead>\n",
       "  <tbody>\n",
       "    <tr>\n",
       "      <th>Duru</th>\n",
       "      <td>-0.001622</td>\n",
       "      <td>-0.441759</td>\n",
       "      <td>-0.585713</td>\n",
       "      <td>-0.883518</td>\n",
       "    </tr>\n",
       "    <tr>\n",
       "      <th>Asil</th>\n",
       "      <td>2.361989</td>\n",
       "      <td>-1.765835</td>\n",
       "      <td>2.337480</td>\n",
       "      <td>-3.531670</td>\n",
       "    </tr>\n",
       "    <tr>\n",
       "      <th>Deniz</th>\n",
       "      <td>1.597494</td>\n",
       "      <td>-0.167993</td>\n",
       "      <td>-0.531846</td>\n",
       "      <td>-0.335986</td>\n",
       "    </tr>\n",
       "    <tr>\n",
       "      <th>Aslan</th>\n",
       "      <td>1.213035</td>\n",
       "      <td>0.626934</td>\n",
       "      <td>0.001956</td>\n",
       "      <td>1.253868</td>\n",
       "    </tr>\n",
       "  </tbody>\n",
       "</table>\n",
       "</div>"
      ],
      "text/plain": [
       "           Maas       Yas  Calisma Saati  Emeklilik Yasi\n",
       "Duru  -0.001622 -0.441759      -0.585713       -0.883518\n",
       "Asil   2.361989 -1.765835       2.337480       -3.531670\n",
       "Deniz  1.597494 -0.167993      -0.531846       -0.335986\n",
       "Aslan  1.213035  0.626934       0.001956        1.253868"
      ]
     },
     "execution_count": 49,
     "metadata": {},
     "output_type": "execute_result"
    }
   ],
   "source": [
    "newDataFrame"
   ]
  },
  {
   "cell_type": "code",
   "execution_count": 50,
   "id": "88f8fceb",
   "metadata": {},
   "outputs": [
    {
     "data": {
      "text/html": [
       "<div>\n",
       "<style scoped>\n",
       "    .dataframe tbody tr th:only-of-type {\n",
       "        vertical-align: middle;\n",
       "    }\n",
       "\n",
       "    .dataframe tbody tr th {\n",
       "        vertical-align: top;\n",
       "    }\n",
       "\n",
       "    .dataframe thead th {\n",
       "        text-align: right;\n",
       "    }\n",
       "</style>\n",
       "<table border=\"1\" class=\"dataframe\">\n",
       "  <thead>\n",
       "    <tr style=\"text-align: right;\">\n",
       "      <th></th>\n",
       "      <th>index</th>\n",
       "      <th>Maas</th>\n",
       "      <th>Yas</th>\n",
       "      <th>Calisma Saati</th>\n",
       "      <th>Emeklilik Yasi</th>\n",
       "    </tr>\n",
       "  </thead>\n",
       "  <tbody>\n",
       "    <tr>\n",
       "      <th>0</th>\n",
       "      <td>Duru</td>\n",
       "      <td>-0.001622</td>\n",
       "      <td>-0.441759</td>\n",
       "      <td>-0.585713</td>\n",
       "      <td>-0.883518</td>\n",
       "    </tr>\n",
       "    <tr>\n",
       "      <th>1</th>\n",
       "      <td>Asil</td>\n",
       "      <td>2.361989</td>\n",
       "      <td>-1.765835</td>\n",
       "      <td>2.337480</td>\n",
       "      <td>-3.531670</td>\n",
       "    </tr>\n",
       "    <tr>\n",
       "      <th>2</th>\n",
       "      <td>Deniz</td>\n",
       "      <td>1.597494</td>\n",
       "      <td>-0.167993</td>\n",
       "      <td>-0.531846</td>\n",
       "      <td>-0.335986</td>\n",
       "    </tr>\n",
       "    <tr>\n",
       "      <th>3</th>\n",
       "      <td>Aslan</td>\n",
       "      <td>1.213035</td>\n",
       "      <td>0.626934</td>\n",
       "      <td>0.001956</td>\n",
       "      <td>1.253868</td>\n",
       "    </tr>\n",
       "  </tbody>\n",
       "</table>\n",
       "</div>"
      ],
      "text/plain": [
       "   index      Maas       Yas  Calisma Saati  Emeklilik Yasi\n",
       "0   Duru -0.001622 -0.441759      -0.585713       -0.883518\n",
       "1   Asil  2.361989 -1.765835       2.337480       -3.531670\n",
       "2  Deniz  1.597494 -0.167993      -0.531846       -0.335986\n",
       "3  Aslan  1.213035  0.626934       0.001956        1.253868"
      ]
     },
     "execution_count": 50,
     "metadata": {},
     "output_type": "execute_result"
    }
   ],
   "source": [
    "newDataFrame.reset_index() #indeksleri resetler "
   ]
  },
  {
   "cell_type": "code",
   "execution_count": 51,
   "id": "07a7865b",
   "metadata": {},
   "outputs": [],
   "source": [
    "newIndexList =[\"Dur\", \"Asi\", \"Den\", \"Asl\"] #İsimlerin sadece 3 harfinden olusan yeni indeks"
   ]
  },
  {
   "cell_type": "code",
   "execution_count": 52,
   "id": "5d31b065",
   "metadata": {},
   "outputs": [],
   "source": [
    "newDataFrame[\"Yeni İndeks\"] = newIndexList"
   ]
  },
  {
   "cell_type": "code",
   "execution_count": 53,
   "id": "6869eb60",
   "metadata": {},
   "outputs": [
    {
     "data": {
      "text/html": [
       "<div>\n",
       "<style scoped>\n",
       "    .dataframe tbody tr th:only-of-type {\n",
       "        vertical-align: middle;\n",
       "    }\n",
       "\n",
       "    .dataframe tbody tr th {\n",
       "        vertical-align: top;\n",
       "    }\n",
       "\n",
       "    .dataframe thead th {\n",
       "        text-align: right;\n",
       "    }\n",
       "</style>\n",
       "<table border=\"1\" class=\"dataframe\">\n",
       "  <thead>\n",
       "    <tr style=\"text-align: right;\">\n",
       "      <th></th>\n",
       "      <th>Maas</th>\n",
       "      <th>Yas</th>\n",
       "      <th>Calisma Saati</th>\n",
       "      <th>Emeklilik Yasi</th>\n",
       "      <th>Yeni İndeks</th>\n",
       "    </tr>\n",
       "  </thead>\n",
       "  <tbody>\n",
       "    <tr>\n",
       "      <th>Duru</th>\n",
       "      <td>-0.001622</td>\n",
       "      <td>-0.441759</td>\n",
       "      <td>-0.585713</td>\n",
       "      <td>-0.883518</td>\n",
       "      <td>Dur</td>\n",
       "    </tr>\n",
       "    <tr>\n",
       "      <th>Asil</th>\n",
       "      <td>2.361989</td>\n",
       "      <td>-1.765835</td>\n",
       "      <td>2.337480</td>\n",
       "      <td>-3.531670</td>\n",
       "      <td>Asi</td>\n",
       "    </tr>\n",
       "    <tr>\n",
       "      <th>Deniz</th>\n",
       "      <td>1.597494</td>\n",
       "      <td>-0.167993</td>\n",
       "      <td>-0.531846</td>\n",
       "      <td>-0.335986</td>\n",
       "      <td>Den</td>\n",
       "    </tr>\n",
       "    <tr>\n",
       "      <th>Aslan</th>\n",
       "      <td>1.213035</td>\n",
       "      <td>0.626934</td>\n",
       "      <td>0.001956</td>\n",
       "      <td>1.253868</td>\n",
       "      <td>Asl</td>\n",
       "    </tr>\n",
       "  </tbody>\n",
       "</table>\n",
       "</div>"
      ],
      "text/plain": [
       "           Maas       Yas  Calisma Saati  Emeklilik Yasi Yeni İndeks\n",
       "Duru  -0.001622 -0.441759      -0.585713       -0.883518         Dur\n",
       "Asil   2.361989 -1.765835       2.337480       -3.531670         Asi\n",
       "Deniz  1.597494 -0.167993      -0.531846       -0.335986         Den\n",
       "Aslan  1.213035  0.626934       0.001956        1.253868         Asl"
      ]
     },
     "execution_count": 53,
     "metadata": {},
     "output_type": "execute_result"
    }
   ],
   "source": [
    "newDataFrame"
   ]
  },
  {
   "cell_type": "code",
   "execution_count": 54,
   "id": "4a3a296e",
   "metadata": {},
   "outputs": [],
   "source": [
    "newDataFrame.set_index(\"Yeni İndeks\", inplace =True)"
   ]
  },
  {
   "cell_type": "code",
   "execution_count": 55,
   "id": "59124a42",
   "metadata": {},
   "outputs": [
    {
     "data": {
      "text/html": [
       "<div>\n",
       "<style scoped>\n",
       "    .dataframe tbody tr th:only-of-type {\n",
       "        vertical-align: middle;\n",
       "    }\n",
       "\n",
       "    .dataframe tbody tr th {\n",
       "        vertical-align: top;\n",
       "    }\n",
       "\n",
       "    .dataframe thead th {\n",
       "        text-align: right;\n",
       "    }\n",
       "</style>\n",
       "<table border=\"1\" class=\"dataframe\">\n",
       "  <thead>\n",
       "    <tr style=\"text-align: right;\">\n",
       "      <th></th>\n",
       "      <th>Maas</th>\n",
       "      <th>Yas</th>\n",
       "      <th>Calisma Saati</th>\n",
       "      <th>Emeklilik Yasi</th>\n",
       "    </tr>\n",
       "    <tr>\n",
       "      <th>Yeni İndeks</th>\n",
       "      <th></th>\n",
       "      <th></th>\n",
       "      <th></th>\n",
       "      <th></th>\n",
       "    </tr>\n",
       "  </thead>\n",
       "  <tbody>\n",
       "    <tr>\n",
       "      <th>Dur</th>\n",
       "      <td>-0.001622</td>\n",
       "      <td>-0.441759</td>\n",
       "      <td>-0.585713</td>\n",
       "      <td>-0.883518</td>\n",
       "    </tr>\n",
       "    <tr>\n",
       "      <th>Asi</th>\n",
       "      <td>2.361989</td>\n",
       "      <td>-1.765835</td>\n",
       "      <td>2.337480</td>\n",
       "      <td>-3.531670</td>\n",
       "    </tr>\n",
       "    <tr>\n",
       "      <th>Den</th>\n",
       "      <td>1.597494</td>\n",
       "      <td>-0.167993</td>\n",
       "      <td>-0.531846</td>\n",
       "      <td>-0.335986</td>\n",
       "    </tr>\n",
       "    <tr>\n",
       "      <th>Asl</th>\n",
       "      <td>1.213035</td>\n",
       "      <td>0.626934</td>\n",
       "      <td>0.001956</td>\n",
       "      <td>1.253868</td>\n",
       "    </tr>\n",
       "  </tbody>\n",
       "</table>\n",
       "</div>"
      ],
      "text/plain": [
       "                 Maas       Yas  Calisma Saati  Emeklilik Yasi\n",
       "Yeni İndeks                                                   \n",
       "Dur         -0.001622 -0.441759      -0.585713       -0.883518\n",
       "Asi          2.361989 -1.765835       2.337480       -3.531670\n",
       "Den          1.597494 -0.167993      -0.531846       -0.335986\n",
       "Asl          1.213035  0.626934       0.001956        1.253868"
      ]
     },
     "execution_count": 55,
     "metadata": {},
     "output_type": "execute_result"
    }
   ],
   "source": [
    "newDataFrame"
   ]
  },
  {
   "cell_type": "code",
   "execution_count": 56,
   "id": "cb300ced",
   "metadata": {},
   "outputs": [
    {
     "data": {
      "text/plain": [
       "Maas              2.361989\n",
       "Yas              -1.765835\n",
       "Calisma Saati     2.337480\n",
       "Emeklilik Yasi   -3.531670\n",
       "Name: Asi, dtype: float64"
      ]
     },
     "execution_count": 56,
     "metadata": {},
     "output_type": "execute_result"
    }
   ],
   "source": [
    "newDataFrame.loc[\"Asi\"] #loc[] yöntemi, belirli bir şartı sağlayan satırları filtreleyebiliriz"
   ]
  },
  {
   "cell_type": "markdown",
   "id": "1f43ef77",
   "metadata": {},
   "source": [
    "## Multiindeks\n"
   ]
  },
  {
   "cell_type": "code",
   "execution_count": 57,
   "id": "a8bde6c4",
   "metadata": {},
   "outputs": [],
   "source": [
    "ilkIndeksler =[\"Simpson\",\"Simpson\",\"Simpson\",\"South Park\", \"South Park\",\"South Park\"]"
   ]
  },
  {
   "cell_type": "code",
   "execution_count": 58,
   "id": "364e2061",
   "metadata": {},
   "outputs": [],
   "source": [
    "icIndeksler =[\"Homer\", \"Bart\", \"Marge\", \"Cartman\", \"Kenny\", \"Kyle\"]"
   ]
  },
  {
   "cell_type": "code",
   "execution_count": 59,
   "id": "f5ffd1ec",
   "metadata": {},
   "outputs": [],
   "source": [
    "birlesmisIndeks = list(zip(ilkIndeksler, icIndeksler))"
   ]
  },
  {
   "cell_type": "code",
   "execution_count": 60,
   "id": "edecbcb4",
   "metadata": {},
   "outputs": [
    {
     "data": {
      "text/plain": [
       "[('Simpson', 'Homer'),\n",
       " ('Simpson', 'Bart'),\n",
       " ('Simpson', 'Marge'),\n",
       " ('South Park', 'Cartman'),\n",
       " ('South Park', 'Kenny'),\n",
       " ('South Park', 'Kyle')]"
      ]
     },
     "execution_count": 60,
     "metadata": {},
     "output_type": "execute_result"
    }
   ],
   "source": [
    "birlesmisIndeks"
   ]
  },
  {
   "cell_type": "code",
   "execution_count": 61,
   "id": "2d36d236",
   "metadata": {},
   "outputs": [],
   "source": [
    "birlesmisIndeks=pd.MultiIndex.from_tuples(birlesmisIndeks) #etiketlerden oluşan bir çoklu indeks nesnesi oluşturur."
   ]
  },
  {
   "cell_type": "code",
   "execution_count": 62,
   "id": "14cb1fc7",
   "metadata": {},
   "outputs": [
    {
     "data": {
      "text/plain": [
       "MultiIndex([(   'Simpson',   'Homer'),\n",
       "            (   'Simpson',    'Bart'),\n",
       "            (   'Simpson',   'Marge'),\n",
       "            ('South Park', 'Cartman'),\n",
       "            ('South Park',   'Kenny'),\n",
       "            ('South Park',    'Kyle')],\n",
       "           )"
      ]
     },
     "execution_count": 62,
     "metadata": {},
     "output_type": "execute_result"
    }
   ],
   "source": [
    "birlesmisIndeks"
   ]
  },
  {
   "cell_type": "code",
   "execution_count": 63,
   "id": "697fd5fb",
   "metadata": {},
   "outputs": [],
   "source": [
    "benimCizgiFilmListem=[[30,\"A\"],[40,\"B\"],[50,\"C\"],[9,\"D\"],[10,\"E\"],[11,\"F\"]]"
   ]
  },
  {
   "cell_type": "code",
   "execution_count": 64,
   "id": "104b883b",
   "metadata": {},
   "outputs": [],
   "source": [
    "cizgiFilmNumpyDizisi=np.array(benimCizgiFilmListem)"
   ]
  },
  {
   "cell_type": "code",
   "execution_count": 65,
   "id": "8bacbea5",
   "metadata": {},
   "outputs": [],
   "source": [
    "cizgiFilmDataFrame = pd.DataFrame(cizgiFilmNumpyDizisi,index=birlesmisIndeks,columns=[\"Yas\",\"Meslek\"])"
   ]
  },
  {
   "cell_type": "code",
   "execution_count": 66,
   "id": "14ca296c",
   "metadata": {},
   "outputs": [
    {
     "data": {
      "text/html": [
       "<div>\n",
       "<style scoped>\n",
       "    .dataframe tbody tr th:only-of-type {\n",
       "        vertical-align: middle;\n",
       "    }\n",
       "\n",
       "    .dataframe tbody tr th {\n",
       "        vertical-align: top;\n",
       "    }\n",
       "\n",
       "    .dataframe thead th {\n",
       "        text-align: right;\n",
       "    }\n",
       "</style>\n",
       "<table border=\"1\" class=\"dataframe\">\n",
       "  <thead>\n",
       "    <tr style=\"text-align: right;\">\n",
       "      <th></th>\n",
       "      <th></th>\n",
       "      <th>Yas</th>\n",
       "      <th>Meslek</th>\n",
       "    </tr>\n",
       "  </thead>\n",
       "  <tbody>\n",
       "    <tr>\n",
       "      <th rowspan=\"3\" valign=\"top\">Simpson</th>\n",
       "      <th>Homer</th>\n",
       "      <td>30</td>\n",
       "      <td>A</td>\n",
       "    </tr>\n",
       "    <tr>\n",
       "      <th>Bart</th>\n",
       "      <td>40</td>\n",
       "      <td>B</td>\n",
       "    </tr>\n",
       "    <tr>\n",
       "      <th>Marge</th>\n",
       "      <td>50</td>\n",
       "      <td>C</td>\n",
       "    </tr>\n",
       "    <tr>\n",
       "      <th rowspan=\"3\" valign=\"top\">South Park</th>\n",
       "      <th>Cartman</th>\n",
       "      <td>9</td>\n",
       "      <td>D</td>\n",
       "    </tr>\n",
       "    <tr>\n",
       "      <th>Kenny</th>\n",
       "      <td>10</td>\n",
       "      <td>E</td>\n",
       "    </tr>\n",
       "    <tr>\n",
       "      <th>Kyle</th>\n",
       "      <td>11</td>\n",
       "      <td>F</td>\n",
       "    </tr>\n",
       "  </tbody>\n",
       "</table>\n",
       "</div>"
      ],
      "text/plain": [
       "                   Yas Meslek\n",
       "Simpson    Homer    30      A\n",
       "           Bart     40      B\n",
       "           Marge    50      C\n",
       "South Park Cartman   9      D\n",
       "           Kenny    10      E\n",
       "           Kyle     11      F"
      ]
     },
     "execution_count": 66,
     "metadata": {},
     "output_type": "execute_result"
    }
   ],
   "source": [
    "cizgiFilmDataFrame"
   ]
  },
  {
   "cell_type": "code",
   "execution_count": 67,
   "id": "57b8f122",
   "metadata": {},
   "outputs": [
    {
     "data": {
      "text/html": [
       "<div>\n",
       "<style scoped>\n",
       "    .dataframe tbody tr th:only-of-type {\n",
       "        vertical-align: middle;\n",
       "    }\n",
       "\n",
       "    .dataframe tbody tr th {\n",
       "        vertical-align: top;\n",
       "    }\n",
       "\n",
       "    .dataframe thead th {\n",
       "        text-align: right;\n",
       "    }\n",
       "</style>\n",
       "<table border=\"1\" class=\"dataframe\">\n",
       "  <thead>\n",
       "    <tr style=\"text-align: right;\">\n",
       "      <th></th>\n",
       "      <th>Yas</th>\n",
       "      <th>Meslek</th>\n",
       "    </tr>\n",
       "  </thead>\n",
       "  <tbody>\n",
       "    <tr>\n",
       "      <th>Homer</th>\n",
       "      <td>30</td>\n",
       "      <td>A</td>\n",
       "    </tr>\n",
       "    <tr>\n",
       "      <th>Bart</th>\n",
       "      <td>40</td>\n",
       "      <td>B</td>\n",
       "    </tr>\n",
       "    <tr>\n",
       "      <th>Marge</th>\n",
       "      <td>50</td>\n",
       "      <td>C</td>\n",
       "    </tr>\n",
       "  </tbody>\n",
       "</table>\n",
       "</div>"
      ],
      "text/plain": [
       "      Yas Meslek\n",
       "Homer  30      A\n",
       "Bart   40      B\n",
       "Marge  50      C"
      ]
     },
     "execution_count": 67,
     "metadata": {},
     "output_type": "execute_result"
    }
   ],
   "source": [
    "cizgiFilmDataFrame.loc[\"Simpson\"]"
   ]
  },
  {
   "cell_type": "code",
   "execution_count": 69,
   "id": "7aa9bfa0",
   "metadata": {},
   "outputs": [
    {
     "data": {
      "text/plain": [
       "Yas       10\n",
       "Meslek     E\n",
       "Name: Kenny, dtype: object"
      ]
     },
     "execution_count": 69,
     "metadata": {},
     "output_type": "execute_result"
    }
   ],
   "source": [
    "cizgiFilmDataFrame.loc[\"South Park\"].loc[\"Kenny\"]"
   ]
  },
  {
   "cell_type": "code",
   "execution_count": 70,
   "id": "325d3536",
   "metadata": {},
   "outputs": [],
   "source": [
    "cizgiFilmDataFrame.index.names =[\"Film Adı\", \"İsim\"]"
   ]
  },
  {
   "cell_type": "code",
   "execution_count": 71,
   "id": "aa0c1053",
   "metadata": {},
   "outputs": [
    {
     "data": {
      "text/html": [
       "<div>\n",
       "<style scoped>\n",
       "    .dataframe tbody tr th:only-of-type {\n",
       "        vertical-align: middle;\n",
       "    }\n",
       "\n",
       "    .dataframe tbody tr th {\n",
       "        vertical-align: top;\n",
       "    }\n",
       "\n",
       "    .dataframe thead th {\n",
       "        text-align: right;\n",
       "    }\n",
       "</style>\n",
       "<table border=\"1\" class=\"dataframe\">\n",
       "  <thead>\n",
       "    <tr style=\"text-align: right;\">\n",
       "      <th></th>\n",
       "      <th></th>\n",
       "      <th>Yas</th>\n",
       "      <th>Meslek</th>\n",
       "    </tr>\n",
       "    <tr>\n",
       "      <th>Film Adı</th>\n",
       "      <th>İsim</th>\n",
       "      <th></th>\n",
       "      <th></th>\n",
       "    </tr>\n",
       "  </thead>\n",
       "  <tbody>\n",
       "    <tr>\n",
       "      <th rowspan=\"3\" valign=\"top\">Simpson</th>\n",
       "      <th>Homer</th>\n",
       "      <td>30</td>\n",
       "      <td>A</td>\n",
       "    </tr>\n",
       "    <tr>\n",
       "      <th>Bart</th>\n",
       "      <td>40</td>\n",
       "      <td>B</td>\n",
       "    </tr>\n",
       "    <tr>\n",
       "      <th>Marge</th>\n",
       "      <td>50</td>\n",
       "      <td>C</td>\n",
       "    </tr>\n",
       "    <tr>\n",
       "      <th rowspan=\"3\" valign=\"top\">South Park</th>\n",
       "      <th>Cartman</th>\n",
       "      <td>9</td>\n",
       "      <td>D</td>\n",
       "    </tr>\n",
       "    <tr>\n",
       "      <th>Kenny</th>\n",
       "      <td>10</td>\n",
       "      <td>E</td>\n",
       "    </tr>\n",
       "    <tr>\n",
       "      <th>Kyle</th>\n",
       "      <td>11</td>\n",
       "      <td>F</td>\n",
       "    </tr>\n",
       "  </tbody>\n",
       "</table>\n",
       "</div>"
      ],
      "text/plain": [
       "                   Yas Meslek\n",
       "Film Adı   İsim              \n",
       "Simpson    Homer    30      A\n",
       "           Bart     40      B\n",
       "           Marge    50      C\n",
       "South Park Cartman   9      D\n",
       "           Kenny    10      E\n",
       "           Kyle     11      F"
      ]
     },
     "execution_count": 71,
     "metadata": {},
     "output_type": "execute_result"
    }
   ],
   "source": [
    "cizgiFilmDataFrame"
   ]
  },
  {
   "cell_type": "markdown",
   "id": "fd7d02d1",
   "metadata": {},
   "source": [
    "## Eksik Veriler operasyonlar"
   ]
  },
  {
   "cell_type": "code",
   "execution_count": 73,
   "id": "50250ad2",
   "metadata": {},
   "outputs": [],
   "source": [
    "sozlukVerisi={\"Bilecik\": [25,29,np.nan], \"Osmaniye\":[35,np.nan,41], \"Hatay\":[36,42,np.nan]}\n",
    "havaDurumuDataFrame=pd.DataFrame(sozlukVerisi)"
   ]
  },
  {
   "cell_type": "code",
   "execution_count": 74,
   "id": "27116842",
   "metadata": {},
   "outputs": [
    {
     "data": {
      "text/html": [
       "<div>\n",
       "<style scoped>\n",
       "    .dataframe tbody tr th:only-of-type {\n",
       "        vertical-align: middle;\n",
       "    }\n",
       "\n",
       "    .dataframe tbody tr th {\n",
       "        vertical-align: top;\n",
       "    }\n",
       "\n",
       "    .dataframe thead th {\n",
       "        text-align: right;\n",
       "    }\n",
       "</style>\n",
       "<table border=\"1\" class=\"dataframe\">\n",
       "  <thead>\n",
       "    <tr style=\"text-align: right;\">\n",
       "      <th></th>\n",
       "      <th>Bilecik</th>\n",
       "      <th>Osmaniye</th>\n",
       "      <th>Hatay</th>\n",
       "    </tr>\n",
       "  </thead>\n",
       "  <tbody>\n",
       "    <tr>\n",
       "      <th>0</th>\n",
       "      <td>25.0</td>\n",
       "      <td>35.0</td>\n",
       "      <td>36.0</td>\n",
       "    </tr>\n",
       "    <tr>\n",
       "      <th>1</th>\n",
       "      <td>29.0</td>\n",
       "      <td>NaN</td>\n",
       "      <td>42.0</td>\n",
       "    </tr>\n",
       "    <tr>\n",
       "      <th>2</th>\n",
       "      <td>NaN</td>\n",
       "      <td>41.0</td>\n",
       "      <td>NaN</td>\n",
       "    </tr>\n",
       "  </tbody>\n",
       "</table>\n",
       "</div>"
      ],
      "text/plain": [
       "   Bilecik  Osmaniye  Hatay\n",
       "0     25.0      35.0   36.0\n",
       "1     29.0       NaN   42.0\n",
       "2      NaN      41.0    NaN"
      ]
     },
     "execution_count": 74,
     "metadata": {},
     "output_type": "execute_result"
    }
   ],
   "source": [
    "havaDurumuDataFrame"
   ]
  },
  {
   "cell_type": "code",
   "execution_count": 75,
   "id": "4059bf61",
   "metadata": {},
   "outputs": [
    {
     "data": {
      "text/html": [
       "<div>\n",
       "<style scoped>\n",
       "    .dataframe tbody tr th:only-of-type {\n",
       "        vertical-align: middle;\n",
       "    }\n",
       "\n",
       "    .dataframe tbody tr th {\n",
       "        vertical-align: top;\n",
       "    }\n",
       "\n",
       "    .dataframe thead th {\n",
       "        text-align: right;\n",
       "    }\n",
       "</style>\n",
       "<table border=\"1\" class=\"dataframe\">\n",
       "  <thead>\n",
       "    <tr style=\"text-align: right;\">\n",
       "      <th></th>\n",
       "      <th>Bilecik</th>\n",
       "      <th>Osmaniye</th>\n",
       "      <th>Hatay</th>\n",
       "    </tr>\n",
       "  </thead>\n",
       "  <tbody>\n",
       "    <tr>\n",
       "      <th>0</th>\n",
       "      <td>25.0</td>\n",
       "      <td>35.0</td>\n",
       "      <td>36.0</td>\n",
       "    </tr>\n",
       "  </tbody>\n",
       "</table>\n",
       "</div>"
      ],
      "text/plain": [
       "   Bilecik  Osmaniye  Hatay\n",
       "0     25.0      35.0   36.0"
      ]
     },
     "execution_count": 75,
     "metadata": {},
     "output_type": "execute_result"
    }
   ],
   "source": [
    "havaDurumuDataFrame.dropna() #eksik (NaN) değerlere sahip satırları veya sütunları kaldırmak için kullanılır. "
   ]
  },
  {
   "cell_type": "code",
   "execution_count": 84,
   "id": "f035d348",
   "metadata": {},
   "outputs": [],
   "source": [
    "yeniVeri={\"Bilecik\": [25,29,np.nan], \"Osmaniye\":[35,np.nan,41], \"Hatay\":[36,42,np.nan], \"Ankara\":[45,np.nan,np.nan]}\n",
    "yeniDataFrame=pd.DataFrame(yeniVeri)"
   ]
  },
  {
   "cell_type": "code",
   "execution_count": 85,
   "id": "4692c466",
   "metadata": {},
   "outputs": [
    {
     "data": {
      "text/html": [
       "<div>\n",
       "<style scoped>\n",
       "    .dataframe tbody tr th:only-of-type {\n",
       "        vertical-align: middle;\n",
       "    }\n",
       "\n",
       "    .dataframe tbody tr th {\n",
       "        vertical-align: top;\n",
       "    }\n",
       "\n",
       "    .dataframe thead th {\n",
       "        text-align: right;\n",
       "    }\n",
       "</style>\n",
       "<table border=\"1\" class=\"dataframe\">\n",
       "  <thead>\n",
       "    <tr style=\"text-align: right;\">\n",
       "      <th></th>\n",
       "      <th>Bilecik</th>\n",
       "      <th>Osmaniye</th>\n",
       "      <th>Hatay</th>\n",
       "      <th>Ankara</th>\n",
       "    </tr>\n",
       "  </thead>\n",
       "  <tbody>\n",
       "    <tr>\n",
       "      <th>0</th>\n",
       "      <td>25.0</td>\n",
       "      <td>35.0</td>\n",
       "      <td>36.0</td>\n",
       "      <td>45.0</td>\n",
       "    </tr>\n",
       "    <tr>\n",
       "      <th>1</th>\n",
       "      <td>29.0</td>\n",
       "      <td>NaN</td>\n",
       "      <td>42.0</td>\n",
       "      <td>NaN</td>\n",
       "    </tr>\n",
       "    <tr>\n",
       "      <th>2</th>\n",
       "      <td>NaN</td>\n",
       "      <td>41.0</td>\n",
       "      <td>NaN</td>\n",
       "      <td>NaN</td>\n",
       "    </tr>\n",
       "  </tbody>\n",
       "</table>\n",
       "</div>"
      ],
      "text/plain": [
       "   Bilecik  Osmaniye  Hatay  Ankara\n",
       "0     25.0      35.0   36.0    45.0\n",
       "1     29.0       NaN   42.0     NaN\n",
       "2      NaN      41.0    NaN     NaN"
      ]
     },
     "execution_count": 85,
     "metadata": {},
     "output_type": "execute_result"
    }
   ],
   "source": [
    "havaDurumuDataFrame"
   ]
  },
  {
   "cell_type": "code",
   "execution_count": 86,
   "id": "81cf13a5",
   "metadata": {},
   "outputs": [
    {
     "data": {
      "text/html": [
       "<div>\n",
       "<style scoped>\n",
       "    .dataframe tbody tr th:only-of-type {\n",
       "        vertical-align: middle;\n",
       "    }\n",
       "\n",
       "    .dataframe tbody tr th {\n",
       "        vertical-align: top;\n",
       "    }\n",
       "\n",
       "    .dataframe thead th {\n",
       "        text-align: right;\n",
       "    }\n",
       "</style>\n",
       "<table border=\"1\" class=\"dataframe\">\n",
       "  <thead>\n",
       "    <tr style=\"text-align: right;\">\n",
       "      <th></th>\n",
       "      <th>Bilecik</th>\n",
       "      <th>Osmaniye</th>\n",
       "      <th>Hatay</th>\n",
       "    </tr>\n",
       "  </thead>\n",
       "  <tbody>\n",
       "    <tr>\n",
       "      <th>0</th>\n",
       "      <td>25.0</td>\n",
       "      <td>35.0</td>\n",
       "      <td>36.0</td>\n",
       "    </tr>\n",
       "    <tr>\n",
       "      <th>1</th>\n",
       "      <td>29.0</td>\n",
       "      <td>NaN</td>\n",
       "      <td>42.0</td>\n",
       "    </tr>\n",
       "    <tr>\n",
       "      <th>2</th>\n",
       "      <td>NaN</td>\n",
       "      <td>41.0</td>\n",
       "      <td>NaN</td>\n",
       "    </tr>\n",
       "  </tbody>\n",
       "</table>\n",
       "</div>"
      ],
      "text/plain": [
       "   Bilecik  Osmaniye  Hatay\n",
       "0     25.0      35.0   36.0\n",
       "1     29.0       NaN   42.0\n",
       "2      NaN      41.0    NaN"
      ]
     },
     "execution_count": 86,
     "metadata": {},
     "output_type": "execute_result"
    }
   ],
   "source": [
    "yeniDataFrame.dropna(axis=1, thresh=2) #2tane non olanları drop et "
   ]
  },
  {
   "cell_type": "code",
   "execution_count": 87,
   "id": "3d711b00",
   "metadata": {},
   "outputs": [
    {
     "data": {
      "text/html": [
       "<div>\n",
       "<style scoped>\n",
       "    .dataframe tbody tr th:only-of-type {\n",
       "        vertical-align: middle;\n",
       "    }\n",
       "\n",
       "    .dataframe tbody tr th {\n",
       "        vertical-align: top;\n",
       "    }\n",
       "\n",
       "    .dataframe thead th {\n",
       "        text-align: right;\n",
       "    }\n",
       "</style>\n",
       "<table border=\"1\" class=\"dataframe\">\n",
       "  <thead>\n",
       "    <tr style=\"text-align: right;\">\n",
       "      <th></th>\n",
       "      <th>Bilecik</th>\n",
       "      <th>Osmaniye</th>\n",
       "      <th>Hatay</th>\n",
       "      <th>Ankara</th>\n",
       "    </tr>\n",
       "  </thead>\n",
       "  <tbody>\n",
       "    <tr>\n",
       "      <th>0</th>\n",
       "      <td>25.0</td>\n",
       "      <td>35.0</td>\n",
       "      <td>36.0</td>\n",
       "      <td>45.0</td>\n",
       "    </tr>\n",
       "    <tr>\n",
       "      <th>1</th>\n",
       "      <td>29.0</td>\n",
       "      <td>NaN</td>\n",
       "      <td>42.0</td>\n",
       "      <td>NaN</td>\n",
       "    </tr>\n",
       "  </tbody>\n",
       "</table>\n",
       "</div>"
      ],
      "text/plain": [
       "   Bilecik  Osmaniye  Hatay  Ankara\n",
       "0     25.0      35.0   36.0    45.0\n",
       "1     29.0       NaN   42.0     NaN"
      ]
     },
     "execution_count": 87,
     "metadata": {},
     "output_type": "execute_result"
    }
   ],
   "source": [
    "yeniDataFrame.dropna(axis=0, thresh=2) #2tane non olanları drop et "
   ]
  },
  {
   "cell_type": "code",
   "execution_count": 88,
   "id": "fb13b900",
   "metadata": {},
   "outputs": [
    {
     "data": {
      "text/html": [
       "<div>\n",
       "<style scoped>\n",
       "    .dataframe tbody tr th:only-of-type {\n",
       "        vertical-align: middle;\n",
       "    }\n",
       "\n",
       "    .dataframe tbody tr th {\n",
       "        vertical-align: top;\n",
       "    }\n",
       "\n",
       "    .dataframe thead th {\n",
       "        text-align: right;\n",
       "    }\n",
       "</style>\n",
       "<table border=\"1\" class=\"dataframe\">\n",
       "  <thead>\n",
       "    <tr style=\"text-align: right;\">\n",
       "      <th></th>\n",
       "      <th>Bilecik</th>\n",
       "      <th>Osmaniye</th>\n",
       "      <th>Hatay</th>\n",
       "      <th>Ankara</th>\n",
       "    </tr>\n",
       "  </thead>\n",
       "  <tbody>\n",
       "    <tr>\n",
       "      <th>0</th>\n",
       "      <td>25.0</td>\n",
       "      <td>35.0</td>\n",
       "      <td>36.0</td>\n",
       "      <td>45.0</td>\n",
       "    </tr>\n",
       "    <tr>\n",
       "      <th>1</th>\n",
       "      <td>29.0</td>\n",
       "      <td>20.0</td>\n",
       "      <td>42.0</td>\n",
       "      <td>20.0</td>\n",
       "    </tr>\n",
       "    <tr>\n",
       "      <th>2</th>\n",
       "      <td>20.0</td>\n",
       "      <td>41.0</td>\n",
       "      <td>20.0</td>\n",
       "      <td>20.0</td>\n",
       "    </tr>\n",
       "  </tbody>\n",
       "</table>\n",
       "</div>"
      ],
      "text/plain": [
       "   Bilecik  Osmaniye  Hatay  Ankara\n",
       "0     25.0      35.0   36.0    45.0\n",
       "1     29.0      20.0   42.0    20.0\n",
       "2     20.0      41.0   20.0    20.0"
      ]
     },
     "execution_count": 88,
     "metadata": {},
     "output_type": "execute_result"
    }
   ],
   "source": [
    "yeniDataFrame.fillna(20) #boş olanları doldur"
   ]
  },
  {
   "cell_type": "markdown",
   "id": "3bb14da4",
   "metadata": {},
   "source": [
    "## Group By"
   ]
  },
  {
   "cell_type": "code",
   "execution_count": 109,
   "id": "23661197",
   "metadata": {},
   "outputs": [],
   "source": [
    "maasSozlugu={\"Departman\": [\"Yazılım\",\"Yazılım\",\"Pazarlama\",\"Pazarlama\",\"Hukuk\", \"Hukuk\"],\n",
    "            \"Calisan İsmi\": [\"Ahmet\",\"Mehmet\",\"Atil\",\"Burak\", \"Zeynep\", \"Fatma\"],\n",
    "            \"Mass\":[100,150,200,300,400,500]\n",
    "            }"
   ]
  },
  {
   "cell_type": "code",
   "execution_count": 110,
   "id": "3cf6d566",
   "metadata": {},
   "outputs": [],
   "source": [
    "maasDataFrame=pd.DataFrame(maasSozlugu)"
   ]
  },
  {
   "cell_type": "code",
   "execution_count": 111,
   "id": "4d20b252",
   "metadata": {},
   "outputs": [
    {
     "data": {
      "text/html": [
       "<div>\n",
       "<style scoped>\n",
       "    .dataframe tbody tr th:only-of-type {\n",
       "        vertical-align: middle;\n",
       "    }\n",
       "\n",
       "    .dataframe tbody tr th {\n",
       "        vertical-align: top;\n",
       "    }\n",
       "\n",
       "    .dataframe thead th {\n",
       "        text-align: right;\n",
       "    }\n",
       "</style>\n",
       "<table border=\"1\" class=\"dataframe\">\n",
       "  <thead>\n",
       "    <tr style=\"text-align: right;\">\n",
       "      <th></th>\n",
       "      <th>Departman</th>\n",
       "      <th>Calisan İsmi</th>\n",
       "      <th>Mass</th>\n",
       "    </tr>\n",
       "  </thead>\n",
       "  <tbody>\n",
       "    <tr>\n",
       "      <th>0</th>\n",
       "      <td>Yazılım</td>\n",
       "      <td>Ahmet</td>\n",
       "      <td>100</td>\n",
       "    </tr>\n",
       "    <tr>\n",
       "      <th>1</th>\n",
       "      <td>Yazılım</td>\n",
       "      <td>Mehmet</td>\n",
       "      <td>150</td>\n",
       "    </tr>\n",
       "    <tr>\n",
       "      <th>2</th>\n",
       "      <td>Pazarlama</td>\n",
       "      <td>Atil</td>\n",
       "      <td>200</td>\n",
       "    </tr>\n",
       "    <tr>\n",
       "      <th>3</th>\n",
       "      <td>Pazarlama</td>\n",
       "      <td>Burak</td>\n",
       "      <td>300</td>\n",
       "    </tr>\n",
       "    <tr>\n",
       "      <th>4</th>\n",
       "      <td>Hukuk</td>\n",
       "      <td>Zeynep</td>\n",
       "      <td>400</td>\n",
       "    </tr>\n",
       "    <tr>\n",
       "      <th>5</th>\n",
       "      <td>Hukuk</td>\n",
       "      <td>Fatma</td>\n",
       "      <td>500</td>\n",
       "    </tr>\n",
       "  </tbody>\n",
       "</table>\n",
       "</div>"
      ],
      "text/plain": [
       "   Departman Calisan İsmi  Mass\n",
       "0    Yazılım        Ahmet   100\n",
       "1    Yazılım       Mehmet   150\n",
       "2  Pazarlama         Atil   200\n",
       "3  Pazarlama        Burak   300\n",
       "4      Hukuk       Zeynep   400\n",
       "5      Hukuk        Fatma   500"
      ]
     },
     "execution_count": 111,
     "metadata": {},
     "output_type": "execute_result"
    }
   ],
   "source": [
    "maasDataFrame"
   ]
  },
  {
   "cell_type": "code",
   "execution_count": 112,
   "id": "74e4fdbf",
   "metadata": {},
   "outputs": [],
   "source": [
    "grupObjesi=maasDataFrame.groupby(\"Departman\")"
   ]
  },
  {
   "cell_type": "code",
   "execution_count": 113,
   "id": "d5978d3e",
   "metadata": {},
   "outputs": [
    {
     "data": {
      "text/html": [
       "<div>\n",
       "<style scoped>\n",
       "    .dataframe tbody tr th:only-of-type {\n",
       "        vertical-align: middle;\n",
       "    }\n",
       "\n",
       "    .dataframe tbody tr th {\n",
       "        vertical-align: top;\n",
       "    }\n",
       "\n",
       "    .dataframe thead th {\n",
       "        text-align: right;\n",
       "    }\n",
       "</style>\n",
       "<table border=\"1\" class=\"dataframe\">\n",
       "  <thead>\n",
       "    <tr style=\"text-align: right;\">\n",
       "      <th></th>\n",
       "      <th>Calisan İsmi</th>\n",
       "      <th>Mass</th>\n",
       "    </tr>\n",
       "    <tr>\n",
       "      <th>Departman</th>\n",
       "      <th></th>\n",
       "      <th></th>\n",
       "    </tr>\n",
       "  </thead>\n",
       "  <tbody>\n",
       "    <tr>\n",
       "      <th>Hukuk</th>\n",
       "      <td>2</td>\n",
       "      <td>2</td>\n",
       "    </tr>\n",
       "    <tr>\n",
       "      <th>Pazarlama</th>\n",
       "      <td>2</td>\n",
       "      <td>2</td>\n",
       "    </tr>\n",
       "    <tr>\n",
       "      <th>Yazılım</th>\n",
       "      <td>2</td>\n",
       "      <td>2</td>\n",
       "    </tr>\n",
       "  </tbody>\n",
       "</table>\n",
       "</div>"
      ],
      "text/plain": [
       "           Calisan İsmi  Mass\n",
       "Departman                    \n",
       "Hukuk                 2     2\n",
       "Pazarlama             2     2\n",
       "Yazılım               2     2"
      ]
     },
     "execution_count": 113,
     "metadata": {},
     "output_type": "execute_result"
    }
   ],
   "source": [
    "grupObjesi.count() #Hangi departmanda kaç kişi çalışıyor"
   ]
  },
  {
   "cell_type": "code",
   "execution_count": 114,
   "id": "c48f02ae",
   "metadata": {},
   "outputs": [
    {
     "name": "stderr",
     "output_type": "stream",
     "text": [
      "C:\\Users\\MONSTER\\AppData\\Local\\Temp\\ipykernel_10376\\1370264299.py:1: FutureWarning: The default value of numeric_only in DataFrameGroupBy.mean is deprecated. In a future version, numeric_only will default to False. Either specify numeric_only or select only columns which should be valid for the function.\n",
      "  grupObjesi.mean() #Hangi departmanda kaç kişi çalışıyor\n"
     ]
    },
    {
     "data": {
      "text/html": [
       "<div>\n",
       "<style scoped>\n",
       "    .dataframe tbody tr th:only-of-type {\n",
       "        vertical-align: middle;\n",
       "    }\n",
       "\n",
       "    .dataframe tbody tr th {\n",
       "        vertical-align: top;\n",
       "    }\n",
       "\n",
       "    .dataframe thead th {\n",
       "        text-align: right;\n",
       "    }\n",
       "</style>\n",
       "<table border=\"1\" class=\"dataframe\">\n",
       "  <thead>\n",
       "    <tr style=\"text-align: right;\">\n",
       "      <th></th>\n",
       "      <th>Mass</th>\n",
       "    </tr>\n",
       "    <tr>\n",
       "      <th>Departman</th>\n",
       "      <th></th>\n",
       "    </tr>\n",
       "  </thead>\n",
       "  <tbody>\n",
       "    <tr>\n",
       "      <th>Hukuk</th>\n",
       "      <td>450.0</td>\n",
       "    </tr>\n",
       "    <tr>\n",
       "      <th>Pazarlama</th>\n",
       "      <td>250.0</td>\n",
       "    </tr>\n",
       "    <tr>\n",
       "      <th>Yazılım</th>\n",
       "      <td>125.0</td>\n",
       "    </tr>\n",
       "  </tbody>\n",
       "</table>\n",
       "</div>"
      ],
      "text/plain": [
       "            Mass\n",
       "Departman       \n",
       "Hukuk      450.0\n",
       "Pazarlama  250.0\n",
       "Yazılım    125.0"
      ]
     },
     "execution_count": 114,
     "metadata": {},
     "output_type": "execute_result"
    }
   ],
   "source": [
    "grupObjesi.mean() #Herbir departmanın ortalama maaşları"
   ]
  },
  {
   "cell_type": "code",
   "execution_count": 115,
   "id": "e0e2431a",
   "metadata": {},
   "outputs": [
    {
     "data": {
      "text/html": [
       "<div>\n",
       "<style scoped>\n",
       "    .dataframe tbody tr th:only-of-type {\n",
       "        vertical-align: middle;\n",
       "    }\n",
       "\n",
       "    .dataframe tbody tr th {\n",
       "        vertical-align: top;\n",
       "    }\n",
       "\n",
       "    .dataframe thead th {\n",
       "        text-align: right;\n",
       "    }\n",
       "</style>\n",
       "<table border=\"1\" class=\"dataframe\">\n",
       "  <thead>\n",
       "    <tr style=\"text-align: right;\">\n",
       "      <th></th>\n",
       "      <th>Calisan İsmi</th>\n",
       "      <th>Mass</th>\n",
       "    </tr>\n",
       "    <tr>\n",
       "      <th>Departman</th>\n",
       "      <th></th>\n",
       "      <th></th>\n",
       "    </tr>\n",
       "  </thead>\n",
       "  <tbody>\n",
       "    <tr>\n",
       "      <th>Hukuk</th>\n",
       "      <td>Zeynep</td>\n",
       "      <td>500</td>\n",
       "    </tr>\n",
       "    <tr>\n",
       "      <th>Pazarlama</th>\n",
       "      <td>Burak</td>\n",
       "      <td>300</td>\n",
       "    </tr>\n",
       "    <tr>\n",
       "      <th>Yazılım</th>\n",
       "      <td>Mehmet</td>\n",
       "      <td>150</td>\n",
       "    </tr>\n",
       "  </tbody>\n",
       "</table>\n",
       "</div>"
      ],
      "text/plain": [
       "          Calisan İsmi  Mass\n",
       "Departman                   \n",
       "Hukuk           Zeynep   500\n",
       "Pazarlama        Burak   300\n",
       "Yazılım         Mehmet   150"
      ]
     },
     "execution_count": 115,
     "metadata": {},
     "output_type": "execute_result"
    }
   ],
   "source": [
    "grupObjesi.max() #DEpartmanda en yüksek maaş alanlar"
   ]
  },
  {
   "cell_type": "code",
   "execution_count": 116,
   "id": "fc6104f7",
   "metadata": {},
   "outputs": [
    {
     "data": {
      "text/html": [
       "<div>\n",
       "<style scoped>\n",
       "    .dataframe tbody tr th:only-of-type {\n",
       "        vertical-align: middle;\n",
       "    }\n",
       "\n",
       "    .dataframe tbody tr th {\n",
       "        vertical-align: top;\n",
       "    }\n",
       "\n",
       "    .dataframe thead tr th {\n",
       "        text-align: left;\n",
       "    }\n",
       "\n",
       "    .dataframe thead tr:last-of-type th {\n",
       "        text-align: right;\n",
       "    }\n",
       "</style>\n",
       "<table border=\"1\" class=\"dataframe\">\n",
       "  <thead>\n",
       "    <tr>\n",
       "      <th></th>\n",
       "      <th colspan=\"8\" halign=\"left\">Mass</th>\n",
       "    </tr>\n",
       "    <tr>\n",
       "      <th></th>\n",
       "      <th>count</th>\n",
       "      <th>mean</th>\n",
       "      <th>std</th>\n",
       "      <th>min</th>\n",
       "      <th>25%</th>\n",
       "      <th>50%</th>\n",
       "      <th>75%</th>\n",
       "      <th>max</th>\n",
       "    </tr>\n",
       "    <tr>\n",
       "      <th>Departman</th>\n",
       "      <th></th>\n",
       "      <th></th>\n",
       "      <th></th>\n",
       "      <th></th>\n",
       "      <th></th>\n",
       "      <th></th>\n",
       "      <th></th>\n",
       "      <th></th>\n",
       "    </tr>\n",
       "  </thead>\n",
       "  <tbody>\n",
       "    <tr>\n",
       "      <th>Hukuk</th>\n",
       "      <td>2.0</td>\n",
       "      <td>450.0</td>\n",
       "      <td>70.710678</td>\n",
       "      <td>400.0</td>\n",
       "      <td>425.0</td>\n",
       "      <td>450.0</td>\n",
       "      <td>475.0</td>\n",
       "      <td>500.0</td>\n",
       "    </tr>\n",
       "    <tr>\n",
       "      <th>Pazarlama</th>\n",
       "      <td>2.0</td>\n",
       "      <td>250.0</td>\n",
       "      <td>70.710678</td>\n",
       "      <td>200.0</td>\n",
       "      <td>225.0</td>\n",
       "      <td>250.0</td>\n",
       "      <td>275.0</td>\n",
       "      <td>300.0</td>\n",
       "    </tr>\n",
       "    <tr>\n",
       "      <th>Yazılım</th>\n",
       "      <td>2.0</td>\n",
       "      <td>125.0</td>\n",
       "      <td>35.355339</td>\n",
       "      <td>100.0</td>\n",
       "      <td>112.5</td>\n",
       "      <td>125.0</td>\n",
       "      <td>137.5</td>\n",
       "      <td>150.0</td>\n",
       "    </tr>\n",
       "  </tbody>\n",
       "</table>\n",
       "</div>"
      ],
      "text/plain": [
       "           Mass                                                     \n",
       "          count   mean        std    min    25%    50%    75%    max\n",
       "Departman                                                           \n",
       "Hukuk       2.0  450.0  70.710678  400.0  425.0  450.0  475.0  500.0\n",
       "Pazarlama   2.0  250.0  70.710678  200.0  225.0  250.0  275.0  300.0\n",
       "Yazılım     2.0  125.0  35.355339  100.0  112.5  125.0  137.5  150.0"
      ]
     },
     "execution_count": 116,
     "metadata": {},
     "output_type": "execute_result"
    }
   ],
   "source": [
    "grupObjesi.describe() #İstatiksel özet biilgilerini listeler"
   ]
  },
  {
   "cell_type": "markdown",
   "id": "a4a1a94a",
   "metadata": {},
   "source": [
    "## Concat"
   ]
  },
  {
   "cell_type": "code",
   "execution_count": 119,
   "id": "48bf4dda",
   "metadata": {},
   "outputs": [],
   "source": [
    "sozluk1={\"Isim\": [\"Ahmet\", \"Mehmet\", \"Zeynep\", \"Atıl\"],\n",
    "         \"Spor:\":[\"Koşu\", \"Yüzme\", \"Koşu\", \"Basketbol\"],\n",
    "         \"Kalori\":[100,200,300,400]}"
   ]
  },
  {
   "cell_type": "code",
   "execution_count": 122,
   "id": "8f5eca6e",
   "metadata": {},
   "outputs": [],
   "source": [
    "dataFrame1 = pd.DataFrame(sozluk1, index=[0,1,2,3])"
   ]
  },
  {
   "cell_type": "code",
   "execution_count": 128,
   "id": "aebbdb8d",
   "metadata": {},
   "outputs": [],
   "source": [
    "sozluk2={\"Isim\": [\"Osman\", \"Levent\", \"Atlas\", \"Fatma\"],\n",
    "         \"Spor:\":[\"Koşu\", \"Yüzme\", \"Koşu\", \"Basketbol\"],\n",
    "         \"Kalori\":[200,100,50,300]}"
   ]
  },
  {
   "cell_type": "code",
   "execution_count": 132,
   "id": "a0e267a2",
   "metadata": {},
   "outputs": [],
   "source": [
    "dataFrame2 = pd.DataFrame(sozluk2, index=[4,5,6,7])"
   ]
  },
  {
   "cell_type": "code",
   "execution_count": 133,
   "id": "a235c807",
   "metadata": {},
   "outputs": [],
   "source": [
    "sozluk3={\"Isim\": [\"Ayse\", \"Mahmut\", \"Duygu\", \"Nur\"],\n",
    "         \"Spor:\":[\"Koşu\", \"Yüzme\", \"Badminton\", \"Tenis\"],\n",
    "         \"Kalori\":[200,100,50,300]}"
   ]
  },
  {
   "cell_type": "code",
   "execution_count": 134,
   "id": "1ebd9081",
   "metadata": {},
   "outputs": [],
   "source": [
    "dataFrame3 = pd.DataFrame(sozluk3, index=[8,9,10,11])"
   ]
  },
  {
   "cell_type": "code",
   "execution_count": 136,
   "id": "5c139b91",
   "metadata": {},
   "outputs": [
    {
     "data": {
      "text/html": [
       "<div>\n",
       "<style scoped>\n",
       "    .dataframe tbody tr th:only-of-type {\n",
       "        vertical-align: middle;\n",
       "    }\n",
       "\n",
       "    .dataframe tbody tr th {\n",
       "        vertical-align: top;\n",
       "    }\n",
       "\n",
       "    .dataframe thead th {\n",
       "        text-align: right;\n",
       "    }\n",
       "</style>\n",
       "<table border=\"1\" class=\"dataframe\">\n",
       "  <thead>\n",
       "    <tr style=\"text-align: right;\">\n",
       "      <th></th>\n",
       "      <th>Isim</th>\n",
       "      <th>Spor:</th>\n",
       "      <th>Kalori</th>\n",
       "    </tr>\n",
       "  </thead>\n",
       "  <tbody>\n",
       "    <tr>\n",
       "      <th>0</th>\n",
       "      <td>Ahmet</td>\n",
       "      <td>Koşu</td>\n",
       "      <td>100</td>\n",
       "    </tr>\n",
       "    <tr>\n",
       "      <th>1</th>\n",
       "      <td>Mehmet</td>\n",
       "      <td>Yüzme</td>\n",
       "      <td>200</td>\n",
       "    </tr>\n",
       "    <tr>\n",
       "      <th>2</th>\n",
       "      <td>Zeynep</td>\n",
       "      <td>Koşu</td>\n",
       "      <td>300</td>\n",
       "    </tr>\n",
       "    <tr>\n",
       "      <th>3</th>\n",
       "      <td>Atıl</td>\n",
       "      <td>Basketbol</td>\n",
       "      <td>400</td>\n",
       "    </tr>\n",
       "  </tbody>\n",
       "</table>\n",
       "</div>"
      ],
      "text/plain": [
       "     Isim      Spor:  Kalori\n",
       "0   Ahmet       Koşu     100\n",
       "1  Mehmet      Yüzme     200\n",
       "2  Zeynep       Koşu     300\n",
       "3    Atıl  Basketbol     400"
      ]
     },
     "execution_count": 136,
     "metadata": {},
     "output_type": "execute_result"
    }
   ],
   "source": [
    "dataFrame1"
   ]
  },
  {
   "cell_type": "code",
   "execution_count": 137,
   "id": "5b304ffa",
   "metadata": {},
   "outputs": [
    {
     "data": {
      "text/html": [
       "<div>\n",
       "<style scoped>\n",
       "    .dataframe tbody tr th:only-of-type {\n",
       "        vertical-align: middle;\n",
       "    }\n",
       "\n",
       "    .dataframe tbody tr th {\n",
       "        vertical-align: top;\n",
       "    }\n",
       "\n",
       "    .dataframe thead th {\n",
       "        text-align: right;\n",
       "    }\n",
       "</style>\n",
       "<table border=\"1\" class=\"dataframe\">\n",
       "  <thead>\n",
       "    <tr style=\"text-align: right;\">\n",
       "      <th></th>\n",
       "      <th>Isim</th>\n",
       "      <th>Spor:</th>\n",
       "      <th>Kalori</th>\n",
       "    </tr>\n",
       "  </thead>\n",
       "  <tbody>\n",
       "    <tr>\n",
       "      <th>4</th>\n",
       "      <td>Osman</td>\n",
       "      <td>Koşu</td>\n",
       "      <td>200</td>\n",
       "    </tr>\n",
       "    <tr>\n",
       "      <th>5</th>\n",
       "      <td>Levent</td>\n",
       "      <td>Yüzme</td>\n",
       "      <td>100</td>\n",
       "    </tr>\n",
       "    <tr>\n",
       "      <th>6</th>\n",
       "      <td>Atlas</td>\n",
       "      <td>Koşu</td>\n",
       "      <td>50</td>\n",
       "    </tr>\n",
       "    <tr>\n",
       "      <th>7</th>\n",
       "      <td>Fatma</td>\n",
       "      <td>Basketbol</td>\n",
       "      <td>300</td>\n",
       "    </tr>\n",
       "  </tbody>\n",
       "</table>\n",
       "</div>"
      ],
      "text/plain": [
       "     Isim      Spor:  Kalori\n",
       "4   Osman       Koşu     200\n",
       "5  Levent      Yüzme     100\n",
       "6   Atlas       Koşu      50\n",
       "7   Fatma  Basketbol     300"
      ]
     },
     "execution_count": 137,
     "metadata": {},
     "output_type": "execute_result"
    }
   ],
   "source": [
    "dataFrame2"
   ]
  },
  {
   "cell_type": "code",
   "execution_count": 138,
   "id": "91faf186",
   "metadata": {},
   "outputs": [
    {
     "data": {
      "text/html": [
       "<div>\n",
       "<style scoped>\n",
       "    .dataframe tbody tr th:only-of-type {\n",
       "        vertical-align: middle;\n",
       "    }\n",
       "\n",
       "    .dataframe tbody tr th {\n",
       "        vertical-align: top;\n",
       "    }\n",
       "\n",
       "    .dataframe thead th {\n",
       "        text-align: right;\n",
       "    }\n",
       "</style>\n",
       "<table border=\"1\" class=\"dataframe\">\n",
       "  <thead>\n",
       "    <tr style=\"text-align: right;\">\n",
       "      <th></th>\n",
       "      <th>Isim</th>\n",
       "      <th>Spor:</th>\n",
       "      <th>Kalori</th>\n",
       "    </tr>\n",
       "  </thead>\n",
       "  <tbody>\n",
       "    <tr>\n",
       "      <th>8</th>\n",
       "      <td>Ayse</td>\n",
       "      <td>Koşu</td>\n",
       "      <td>200</td>\n",
       "    </tr>\n",
       "    <tr>\n",
       "      <th>9</th>\n",
       "      <td>Mahmut</td>\n",
       "      <td>Yüzme</td>\n",
       "      <td>100</td>\n",
       "    </tr>\n",
       "    <tr>\n",
       "      <th>10</th>\n",
       "      <td>Duygu</td>\n",
       "      <td>Badminton</td>\n",
       "      <td>50</td>\n",
       "    </tr>\n",
       "    <tr>\n",
       "      <th>11</th>\n",
       "      <td>Nur</td>\n",
       "      <td>Tenis</td>\n",
       "      <td>300</td>\n",
       "    </tr>\n",
       "  </tbody>\n",
       "</table>\n",
       "</div>"
      ],
      "text/plain": [
       "      Isim      Spor:  Kalori\n",
       "8     Ayse       Koşu     200\n",
       "9   Mahmut      Yüzme     100\n",
       "10   Duygu  Badminton      50\n",
       "11     Nur      Tenis     300"
      ]
     },
     "execution_count": 138,
     "metadata": {},
     "output_type": "execute_result"
    }
   ],
   "source": [
    "dataFrame3"
   ]
  },
  {
   "cell_type": "markdown",
   "id": "3a452955",
   "metadata": {},
   "source": [
    "# concatenation"
   ]
  },
  {
   "cell_type": "code",
   "execution_count": 140,
   "id": "de90fa55",
   "metadata": {},
   "outputs": [
    {
     "data": {
      "text/html": [
       "<div>\n",
       "<style scoped>\n",
       "    .dataframe tbody tr th:only-of-type {\n",
       "        vertical-align: middle;\n",
       "    }\n",
       "\n",
       "    .dataframe tbody tr th {\n",
       "        vertical-align: top;\n",
       "    }\n",
       "\n",
       "    .dataframe thead th {\n",
       "        text-align: right;\n",
       "    }\n",
       "</style>\n",
       "<table border=\"1\" class=\"dataframe\">\n",
       "  <thead>\n",
       "    <tr style=\"text-align: right;\">\n",
       "      <th></th>\n",
       "      <th>Isim</th>\n",
       "      <th>Spor:</th>\n",
       "      <th>Kalori</th>\n",
       "    </tr>\n",
       "  </thead>\n",
       "  <tbody>\n",
       "    <tr>\n",
       "      <th>0</th>\n",
       "      <td>Ahmet</td>\n",
       "      <td>Koşu</td>\n",
       "      <td>100</td>\n",
       "    </tr>\n",
       "    <tr>\n",
       "      <th>1</th>\n",
       "      <td>Mehmet</td>\n",
       "      <td>Yüzme</td>\n",
       "      <td>200</td>\n",
       "    </tr>\n",
       "    <tr>\n",
       "      <th>2</th>\n",
       "      <td>Zeynep</td>\n",
       "      <td>Koşu</td>\n",
       "      <td>300</td>\n",
       "    </tr>\n",
       "    <tr>\n",
       "      <th>3</th>\n",
       "      <td>Atıl</td>\n",
       "      <td>Basketbol</td>\n",
       "      <td>400</td>\n",
       "    </tr>\n",
       "    <tr>\n",
       "      <th>4</th>\n",
       "      <td>Osman</td>\n",
       "      <td>Koşu</td>\n",
       "      <td>200</td>\n",
       "    </tr>\n",
       "    <tr>\n",
       "      <th>5</th>\n",
       "      <td>Levent</td>\n",
       "      <td>Yüzme</td>\n",
       "      <td>100</td>\n",
       "    </tr>\n",
       "    <tr>\n",
       "      <th>6</th>\n",
       "      <td>Atlas</td>\n",
       "      <td>Koşu</td>\n",
       "      <td>50</td>\n",
       "    </tr>\n",
       "    <tr>\n",
       "      <th>7</th>\n",
       "      <td>Fatma</td>\n",
       "      <td>Basketbol</td>\n",
       "      <td>300</td>\n",
       "    </tr>\n",
       "    <tr>\n",
       "      <th>8</th>\n",
       "      <td>Ayse</td>\n",
       "      <td>Koşu</td>\n",
       "      <td>200</td>\n",
       "    </tr>\n",
       "    <tr>\n",
       "      <th>9</th>\n",
       "      <td>Mahmut</td>\n",
       "      <td>Yüzme</td>\n",
       "      <td>100</td>\n",
       "    </tr>\n",
       "    <tr>\n",
       "      <th>10</th>\n",
       "      <td>Duygu</td>\n",
       "      <td>Badminton</td>\n",
       "      <td>50</td>\n",
       "    </tr>\n",
       "    <tr>\n",
       "      <th>11</th>\n",
       "      <td>Nur</td>\n",
       "      <td>Tenis</td>\n",
       "      <td>300</td>\n",
       "    </tr>\n",
       "  </tbody>\n",
       "</table>\n",
       "</div>"
      ],
      "text/plain": [
       "      Isim      Spor:  Kalori\n",
       "0    Ahmet       Koşu     100\n",
       "1   Mehmet      Yüzme     200\n",
       "2   Zeynep       Koşu     300\n",
       "3     Atıl  Basketbol     400\n",
       "4    Osman       Koşu     200\n",
       "5   Levent      Yüzme     100\n",
       "6    Atlas       Koşu      50\n",
       "7    Fatma  Basketbol     300\n",
       "8     Ayse       Koşu     200\n",
       "9   Mahmut      Yüzme     100\n",
       "10   Duygu  Badminton      50\n",
       "11     Nur      Tenis     300"
      ]
     },
     "execution_count": 140,
     "metadata": {},
     "output_type": "execute_result"
    }
   ],
   "source": [
    "pd.concat([dataFrame1,dataFrame2,dataFrame3], axis=0) #3tabloyu virleştirmiş oldu"
   ]
  },
  {
   "cell_type": "markdown",
   "id": "5c4a604b",
   "metadata": {},
   "source": [
    "# merge"
   ]
  },
  {
   "cell_type": "code",
   "execution_count": 144,
   "id": "29d95a99",
   "metadata": {},
   "outputs": [],
   "source": [
    "mergeSozluk1={\"İsim\": [\"Ahmet\", \"Mehmet\", \"Zeynep\",\"Atıl\"],\n",
    "              \"Spor\": [\"Koşu\", \"Yüzme\", \"Koşu\", \"Basketbol\"]}"
   ]
  },
  {
   "cell_type": "code",
   "execution_count": 145,
   "id": "14db93a4",
   "metadata": {},
   "outputs": [],
   "source": [
    "mergeSozluk2={\"İsim\": [\"Ahmet\", \"Mehmet\", \"Zeynep\",\"Atıl\"],\n",
    "              \"Kalori\": [100,200,150,250]}"
   ]
  },
  {
   "cell_type": "code",
   "execution_count": 147,
   "id": "931b9d09",
   "metadata": {},
   "outputs": [],
   "source": [
    "mergeDataFrame1 = pd.DataFrame(mergeSozluk1)"
   ]
  },
  {
   "cell_type": "code",
   "execution_count": 148,
   "id": "c72284a5",
   "metadata": {},
   "outputs": [],
   "source": [
    "mergeDataFrame2 = pd.DataFrame(mergeSozluk2)"
   ]
  },
  {
   "cell_type": "code",
   "execution_count": 149,
   "id": "374ef32b",
   "metadata": {},
   "outputs": [
    {
     "data": {
      "text/html": [
       "<div>\n",
       "<style scoped>\n",
       "    .dataframe tbody tr th:only-of-type {\n",
       "        vertical-align: middle;\n",
       "    }\n",
       "\n",
       "    .dataframe tbody tr th {\n",
       "        vertical-align: top;\n",
       "    }\n",
       "\n",
       "    .dataframe thead th {\n",
       "        text-align: right;\n",
       "    }\n",
       "</style>\n",
       "<table border=\"1\" class=\"dataframe\">\n",
       "  <thead>\n",
       "    <tr style=\"text-align: right;\">\n",
       "      <th></th>\n",
       "      <th>İsim</th>\n",
       "      <th>Spor</th>\n",
       "    </tr>\n",
       "  </thead>\n",
       "  <tbody>\n",
       "    <tr>\n",
       "      <th>0</th>\n",
       "      <td>Ahmet</td>\n",
       "      <td>Koşu</td>\n",
       "    </tr>\n",
       "    <tr>\n",
       "      <th>1</th>\n",
       "      <td>Mehmet</td>\n",
       "      <td>Yüzme</td>\n",
       "    </tr>\n",
       "    <tr>\n",
       "      <th>2</th>\n",
       "      <td>Zeynep</td>\n",
       "      <td>Koşu</td>\n",
       "    </tr>\n",
       "    <tr>\n",
       "      <th>3</th>\n",
       "      <td>Atıl</td>\n",
       "      <td>Basketbol</td>\n",
       "    </tr>\n",
       "  </tbody>\n",
       "</table>\n",
       "</div>"
      ],
      "text/plain": [
       "     İsim       Spor\n",
       "0   Ahmet       Koşu\n",
       "1  Mehmet      Yüzme\n",
       "2  Zeynep       Koşu\n",
       "3    Atıl  Basketbol"
      ]
     },
     "execution_count": 149,
     "metadata": {},
     "output_type": "execute_result"
    }
   ],
   "source": [
    "mergeDataFrame1"
   ]
  },
  {
   "cell_type": "code",
   "execution_count": 150,
   "id": "0f9dd6f9",
   "metadata": {},
   "outputs": [
    {
     "data": {
      "text/html": [
       "<div>\n",
       "<style scoped>\n",
       "    .dataframe tbody tr th:only-of-type {\n",
       "        vertical-align: middle;\n",
       "    }\n",
       "\n",
       "    .dataframe tbody tr th {\n",
       "        vertical-align: top;\n",
       "    }\n",
       "\n",
       "    .dataframe thead th {\n",
       "        text-align: right;\n",
       "    }\n",
       "</style>\n",
       "<table border=\"1\" class=\"dataframe\">\n",
       "  <thead>\n",
       "    <tr style=\"text-align: right;\">\n",
       "      <th></th>\n",
       "      <th>İsim</th>\n",
       "      <th>Kalori</th>\n",
       "    </tr>\n",
       "  </thead>\n",
       "  <tbody>\n",
       "    <tr>\n",
       "      <th>0</th>\n",
       "      <td>Ahmet</td>\n",
       "      <td>100</td>\n",
       "    </tr>\n",
       "    <tr>\n",
       "      <th>1</th>\n",
       "      <td>Mehmet</td>\n",
       "      <td>200</td>\n",
       "    </tr>\n",
       "    <tr>\n",
       "      <th>2</th>\n",
       "      <td>Zeynep</td>\n",
       "      <td>150</td>\n",
       "    </tr>\n",
       "    <tr>\n",
       "      <th>3</th>\n",
       "      <td>Atıl</td>\n",
       "      <td>250</td>\n",
       "    </tr>\n",
       "  </tbody>\n",
       "</table>\n",
       "</div>"
      ],
      "text/plain": [
       "     İsim  Kalori\n",
       "0   Ahmet     100\n",
       "1  Mehmet     200\n",
       "2  Zeynep     150\n",
       "3    Atıl     250"
      ]
     },
     "execution_count": 150,
     "metadata": {},
     "output_type": "execute_result"
    }
   ],
   "source": [
    "mergeDataFrame2"
   ]
  },
  {
   "cell_type": "code",
   "execution_count": 155,
   "id": "adad959e",
   "metadata": {},
   "outputs": [
    {
     "data": {
      "text/html": [
       "<div>\n",
       "<style scoped>\n",
       "    .dataframe tbody tr th:only-of-type {\n",
       "        vertical-align: middle;\n",
       "    }\n",
       "\n",
       "    .dataframe tbody tr th {\n",
       "        vertical-align: top;\n",
       "    }\n",
       "\n",
       "    .dataframe thead th {\n",
       "        text-align: right;\n",
       "    }\n",
       "</style>\n",
       "<table border=\"1\" class=\"dataframe\">\n",
       "  <thead>\n",
       "    <tr style=\"text-align: right;\">\n",
       "      <th></th>\n",
       "      <th>İsim</th>\n",
       "      <th>Spor</th>\n",
       "      <th>Kalori</th>\n",
       "    </tr>\n",
       "  </thead>\n",
       "  <tbody>\n",
       "    <tr>\n",
       "      <th>0</th>\n",
       "      <td>Ahmet</td>\n",
       "      <td>Koşu</td>\n",
       "      <td>100</td>\n",
       "    </tr>\n",
       "    <tr>\n",
       "      <th>1</th>\n",
       "      <td>Mehmet</td>\n",
       "      <td>Yüzme</td>\n",
       "      <td>200</td>\n",
       "    </tr>\n",
       "    <tr>\n",
       "      <th>2</th>\n",
       "      <td>Zeynep</td>\n",
       "      <td>Koşu</td>\n",
       "      <td>150</td>\n",
       "    </tr>\n",
       "    <tr>\n",
       "      <th>3</th>\n",
       "      <td>Atıl</td>\n",
       "      <td>Basketbol</td>\n",
       "      <td>250</td>\n",
       "    </tr>\n",
       "  </tbody>\n",
       "</table>\n",
       "</div>"
      ],
      "text/plain": [
       "     İsim       Spor  Kalori\n",
       "0   Ahmet       Koşu     100\n",
       "1  Mehmet      Yüzme     200\n",
       "2  Zeynep       Koşu     150\n",
       "3    Atıl  Basketbol     250"
      ]
     },
     "execution_count": 155,
     "metadata": {},
     "output_type": "execute_result"
    }
   ],
   "source": [
    "pd.merge(mergeDataFrame1,mergeDataFrame2, on=\"İsim\") #Birleştirme kaynaştırma işlemi yapıldı\n",
    "#ortak nokta üzerinde birleştirildi"
   ]
  },
  {
   "cell_type": "code",
   "execution_count": 156,
   "id": "d309d03a",
   "metadata": {},
   "outputs": [],
   "source": [
    "maasSozluk ={\"İsim\": [\"Atıl\",\"Zeynep\",\"Mehmet\",\"Ahmet\"],\n",
    "             \"Departman\": [\"Yazılım\", \"Satış\", \"Pazarlama\", \"Yazılım\"],\n",
    "             \"Maas\": [200,300,400,500]}"
   ]
  },
  {
   "cell_type": "code",
   "execution_count": 158,
   "id": "5a7510ec",
   "metadata": {},
   "outputs": [],
   "source": [
    "maasDataFrame = pd.DataFrame(maasSozluk)"
   ]
  },
  {
   "cell_type": "code",
   "execution_count": 159,
   "id": "0a8545ee",
   "metadata": {},
   "outputs": [
    {
     "data": {
      "text/html": [
       "<div>\n",
       "<style scoped>\n",
       "    .dataframe tbody tr th:only-of-type {\n",
       "        vertical-align: middle;\n",
       "    }\n",
       "\n",
       "    .dataframe tbody tr th {\n",
       "        vertical-align: top;\n",
       "    }\n",
       "\n",
       "    .dataframe thead th {\n",
       "        text-align: right;\n",
       "    }\n",
       "</style>\n",
       "<table border=\"1\" class=\"dataframe\">\n",
       "  <thead>\n",
       "    <tr style=\"text-align: right;\">\n",
       "      <th></th>\n",
       "      <th>İsim</th>\n",
       "      <th>Departman</th>\n",
       "      <th>Maas</th>\n",
       "    </tr>\n",
       "  </thead>\n",
       "  <tbody>\n",
       "    <tr>\n",
       "      <th>0</th>\n",
       "      <td>Atıl</td>\n",
       "      <td>Yazılım</td>\n",
       "      <td>200</td>\n",
       "    </tr>\n",
       "    <tr>\n",
       "      <th>1</th>\n",
       "      <td>Zeynep</td>\n",
       "      <td>Satış</td>\n",
       "      <td>300</td>\n",
       "    </tr>\n",
       "    <tr>\n",
       "      <th>2</th>\n",
       "      <td>Mehmet</td>\n",
       "      <td>Pazarlama</td>\n",
       "      <td>400</td>\n",
       "    </tr>\n",
       "    <tr>\n",
       "      <th>3</th>\n",
       "      <td>Ahmet</td>\n",
       "      <td>Yazılım</td>\n",
       "      <td>500</td>\n",
       "    </tr>\n",
       "  </tbody>\n",
       "</table>\n",
       "</div>"
      ],
      "text/plain": [
       "     İsim  Departman  Maas\n",
       "0    Atıl    Yazılım   200\n",
       "1  Zeynep      Satış   300\n",
       "2  Mehmet  Pazarlama   400\n",
       "3   Ahmet    Yazılım   500"
      ]
     },
     "execution_count": 159,
     "metadata": {},
     "output_type": "execute_result"
    }
   ],
   "source": [
    "maasDataFrame"
   ]
  },
  {
   "cell_type": "code",
   "execution_count": 160,
   "id": "1539f926",
   "metadata": {},
   "outputs": [
    {
     "data": {
      "text/plain": [
       "array(['Yazılım', 'Satış', 'Pazarlama'], dtype=object)"
      ]
     },
     "execution_count": 160,
     "metadata": {},
     "output_type": "execute_result"
    }
   ],
   "source": [
    "maasDataFrame[\"Departman\"].unique() #Departmanları tekrarlamadan şekilde listeler"
   ]
  },
  {
   "cell_type": "code",
   "execution_count": 161,
   "id": "5ee5cfb2",
   "metadata": {},
   "outputs": [
    {
     "data": {
      "text/plain": [
       "3"
      ]
     },
     "execution_count": 161,
     "metadata": {},
     "output_type": "execute_result"
    }
   ],
   "source": [
    "maasDataFrame[\"Departman\"].nunique() #Kaç tane departman olduğunu tekrarlamadan listeler"
   ]
  },
  {
   "cell_type": "code",
   "execution_count": 163,
   "id": "608b1fbe",
   "metadata": {},
   "outputs": [
    {
     "data": {
      "text/plain": [
       "Yazılım      2\n",
       "Satış        1\n",
       "Pazarlama    1\n",
       "Name: Departman, dtype: int64"
      ]
     },
     "execution_count": 163,
     "metadata": {},
     "output_type": "execute_result"
    }
   ],
   "source": [
    "maasDataFrame[\"Departman\"].value_counts() #hangi departmandan kaç tane olduğunu tekrarlamadan listeler"
   ]
  },
  {
   "cell_type": "code",
   "execution_count": 168,
   "id": "e5b9d674",
   "metadata": {},
   "outputs": [],
   "source": [
    "def bruttenNete(maas):\n",
    "    return maas * 0.66"
   ]
  },
  {
   "cell_type": "code",
   "execution_count": 170,
   "id": "62df5c4c",
   "metadata": {},
   "outputs": [
    {
     "data": {
      "text/plain": [
       "0    132.0\n",
       "1    198.0\n",
       "2    264.0\n",
       "3    330.0\n",
       "Name: Maas, dtype: float64"
      ]
     },
     "execution_count": 170,
     "metadata": {},
     "output_type": "execute_result"
    }
   ],
   "source": [
    "maasDataFrame[\"Maas\"].apply(bruttenNete) #oluşturmuşolduğum bruttenNete() fonksiyonunu uyguluyorum"
   ]
  },
  {
   "cell_type": "code",
   "execution_count": 171,
   "id": "83b54320",
   "metadata": {},
   "outputs": [
    {
     "data": {
      "text/html": [
       "<div>\n",
       "<style scoped>\n",
       "    .dataframe tbody tr th:only-of-type {\n",
       "        vertical-align: middle;\n",
       "    }\n",
       "\n",
       "    .dataframe tbody tr th {\n",
       "        vertical-align: top;\n",
       "    }\n",
       "\n",
       "    .dataframe thead th {\n",
       "        text-align: right;\n",
       "    }\n",
       "</style>\n",
       "<table border=\"1\" class=\"dataframe\">\n",
       "  <thead>\n",
       "    <tr style=\"text-align: right;\">\n",
       "      <th></th>\n",
       "      <th>İsim</th>\n",
       "      <th>Departman</th>\n",
       "      <th>Maas</th>\n",
       "    </tr>\n",
       "  </thead>\n",
       "  <tbody>\n",
       "    <tr>\n",
       "      <th>0</th>\n",
       "      <td>False</td>\n",
       "      <td>False</td>\n",
       "      <td>False</td>\n",
       "    </tr>\n",
       "    <tr>\n",
       "      <th>1</th>\n",
       "      <td>False</td>\n",
       "      <td>False</td>\n",
       "      <td>False</td>\n",
       "    </tr>\n",
       "    <tr>\n",
       "      <th>2</th>\n",
       "      <td>False</td>\n",
       "      <td>False</td>\n",
       "      <td>False</td>\n",
       "    </tr>\n",
       "    <tr>\n",
       "      <th>3</th>\n",
       "      <td>False</td>\n",
       "      <td>False</td>\n",
       "      <td>False</td>\n",
       "    </tr>\n",
       "  </tbody>\n",
       "</table>\n",
       "</div>"
      ],
      "text/plain": [
       "    İsim  Departman   Maas\n",
       "0  False      False  False\n",
       "1  False      False  False\n",
       "2  False      False  False\n",
       "3  False      False  False"
      ]
     },
     "execution_count": 171,
     "metadata": {},
     "output_type": "execute_result"
    }
   ],
   "source": [
    "maasDataFrame.isnull()"
   ]
  },
  {
   "cell_type": "code",
   "execution_count": null,
   "id": "4ae916de",
   "metadata": {},
   "outputs": [],
   "source": []
  }
 ],
 "metadata": {
  "kernelspec": {
   "display_name": "Python 3 (ipykernel)",
   "language": "python",
   "name": "python3"
  },
  "language_info": {
   "codemirror_mode": {
    "name": "ipython",
    "version": 3
   },
   "file_extension": ".py",
   "mimetype": "text/x-python",
   "name": "python",
   "nbconvert_exporter": "python",
   "pygments_lexer": "ipython3",
   "version": "3.10.9"
  }
 },
 "nbformat": 4,
 "nbformat_minor": 5
}
